{
  "nbformat": 4,
  "nbformat_minor": 0,
  "metadata": {
    "colab": {
      "name": "Week9Core",
      "provenance": [],
      "authorship_tag": "ABX9TyPQ1EjpkD8kOPZMuD/XWBNa",
      "include_colab_link": true
    },
    "kernelspec": {
      "name": "python3",
      "display_name": "Python 3"
    }
  },
  "cells": [
    {
      "cell_type": "markdown",
      "metadata": {
        "id": "view-in-github",
        "colab_type": "text"
      },
      "source": [
        "<a href=\"https://colab.research.google.com/github/BrianChegeGichau/Titanicdataset/blob/master/Week9Core.ipynb\" target=\"_parent\"><img src=\"https://colab.research.google.com/assets/colab-badge.svg\" alt=\"Open In Colab\"/></a>"
      ]
    },
    {
      "cell_type": "markdown",
      "metadata": {
        "id": "9hTe6SoIf7Rs",
        "colab_type": "text"
      },
      "source": [
        "# 1. Defining the Question"
      ]
    },
    {
      "cell_type": "markdown",
      "metadata": {
        "id": "LddAk0sggFzA",
        "colab_type": "text"
      },
      "source": [
        "# Understanding the Context"
      ]
    },
    {
      "cell_type": "markdown",
      "metadata": {
        "id": "0coGZHBXgMJs",
        "colab_type": "text"
      },
      "source": [
        "The RMS Titanic was a luxury British steamship that sank in the early hours of April,15 1912 after striking an iceberg leading to the deaths of more than 1500 passengers and crew. Of the 2240 passengers and crew on board, more than 1500 lost their lives in the disaster. \n",
        "\n",
        "The Titanic started its maiden voyage from Southampton, England on April,10, 1912. After stops in Cherbough, France and Queenstown, Ireland, the ship set sail for New York with 2,240 passengers and crew. The ship had high-ranking officials, wealthy industrialists, dignitaries and celebrities. 706 people survived the sinking of the Titanic. \n",
        "\n",
        "Titanic nearly perpendicular and many of her lights still aglow finally dove beneath the oceans surface at about 02:20 am on April 15,1972."
      ]
    },
    {
      "cell_type": "markdown",
      "metadata": {
        "id": "_0VU8r75nB-r",
        "colab_type": "text"
      },
      "source": [
        "# Specifying the Question"
      ]
    },
    {
      "cell_type": "markdown",
      "metadata": {
        "id": "WXA-MbbSnFm1",
        "colab_type": "text"
      },
      "source": [
        "I will be using the K-Nearest Neighbors for my analysis. The function is only approximated locally and all computation is deferred until function evaluation. \n",
        "I will be improving the model performance using the different metrics used such as the minkowski and the manhattan.\n",
        "\n",
        "While there was some element of luck involved in surviving it seems some groups of people were more likely to survive than others.In this challenge, I will build a predictive model that answers the question: “What sorts of people were more likely to survive?” using passenger data (ie name, age, gender, socio-economic class, etc)."
      ]
    },
    {
      "cell_type": "markdown",
      "metadata": {
        "id": "COMd1LxNYnMv",
        "colab_type": "text"
      },
      "source": [
        "# Metrics for Success"
      ]
    },
    {
      "cell_type": "markdown",
      "metadata": {
        "id": "OZKl_gTJYsft",
        "colab_type": "text"
      },
      "source": [
        "The following are what i'll use as my accountability to ensure success in my analysis:\n",
        "\n",
        "\n",
        "\n",
        "*   Find out the circumstances one was in to survive the Titanic drown\n",
        "*   Fit the models in the K-Nearest Neighbor model and obtain the best parameters for the model. I also want to obtain an accuracy of 85% in my model.\n",
        "*   Get comprehensive evaluations and conclusion for my analysis.\n",
        "\n",
        "I will be using the accuracy metric and f1 score to measure the performance of my model.\n",
        "\n"
      ]
    },
    {
      "cell_type": "markdown",
      "metadata": {
        "id": "mGritMrXancN",
        "colab_type": "text"
      },
      "source": [
        "# The Experimental Design"
      ]
    },
    {
      "cell_type": "markdown",
      "metadata": {
        "id": "76onxozxasTj",
        "colab_type": "text"
      },
      "source": [
        "The following steps will be undertaken during this study:\n",
        "\n",
        "Reading and exploring the dataset.\n",
        "\n",
        "*   Data Cleaning; Dealing with outliers, anomalies and missing data to answer the given question.\n",
        "*   Perform univariate, bivariate analysis and multi-variate analysis and recording observations.\n",
        "*   Checking for multi-collinearity.\n",
        "*   Fitting my data into the K-Nearest Neighbors and obtaining the best paramters for the model.\n",
        "*   Providing comprehensive recommendations based on my study.\n",
        "*   Challenging my solution by providing insights on how to make model improvements.\n",
        "\n"
      ]
    },
    {
      "cell_type": "markdown",
      "metadata": {
        "id": "4A8iHvUaivTp",
        "colab_type": "text"
      },
      "source": [
        "# 2. Reading the dataset"
      ]
    },
    {
      "cell_type": "code",
      "metadata": {
        "id": "o6WewaLgawam",
        "colab_type": "code",
        "colab": {
          "base_uri": "https://localhost:8080/",
          "height": 204
        },
        "outputId": "d47e038d-a19b-4a25-a9b2-da4c11411d25"
      },
      "source": [
        "#Importing the necessary library to read the dataset\n",
        "import pandas as pd\n",
        "#Reading the dataset and previewing the head\n",
        "train = pd.read_csv('train.csv')\n",
        "train.head()"
      ],
      "execution_count": null,
      "outputs": [
        {
          "output_type": "execute_result",
          "data": {
            "text/html": [
              "<div>\n",
              "<style scoped>\n",
              "    .dataframe tbody tr th:only-of-type {\n",
              "        vertical-align: middle;\n",
              "    }\n",
              "\n",
              "    .dataframe tbody tr th {\n",
              "        vertical-align: top;\n",
              "    }\n",
              "\n",
              "    .dataframe thead th {\n",
              "        text-align: right;\n",
              "    }\n",
              "</style>\n",
              "<table border=\"1\" class=\"dataframe\">\n",
              "  <thead>\n",
              "    <tr style=\"text-align: right;\">\n",
              "      <th></th>\n",
              "      <th>PassengerId</th>\n",
              "      <th>Survived</th>\n",
              "      <th>Pclass</th>\n",
              "      <th>Name</th>\n",
              "      <th>Sex</th>\n",
              "      <th>Age</th>\n",
              "      <th>SibSp</th>\n",
              "      <th>Parch</th>\n",
              "      <th>Ticket</th>\n",
              "      <th>Fare</th>\n",
              "      <th>Cabin</th>\n",
              "      <th>Embarked</th>\n",
              "    </tr>\n",
              "  </thead>\n",
              "  <tbody>\n",
              "    <tr>\n",
              "      <th>0</th>\n",
              "      <td>1</td>\n",
              "      <td>0</td>\n",
              "      <td>3</td>\n",
              "      <td>Braund, Mr. Owen Harris</td>\n",
              "      <td>male</td>\n",
              "      <td>22.0</td>\n",
              "      <td>1</td>\n",
              "      <td>0</td>\n",
              "      <td>A/5 21171</td>\n",
              "      <td>7.2500</td>\n",
              "      <td>NaN</td>\n",
              "      <td>S</td>\n",
              "    </tr>\n",
              "    <tr>\n",
              "      <th>1</th>\n",
              "      <td>2</td>\n",
              "      <td>1</td>\n",
              "      <td>1</td>\n",
              "      <td>Cumings, Mrs. John Bradley (Florence Briggs Th...</td>\n",
              "      <td>female</td>\n",
              "      <td>38.0</td>\n",
              "      <td>1</td>\n",
              "      <td>0</td>\n",
              "      <td>PC 17599</td>\n",
              "      <td>71.2833</td>\n",
              "      <td>C85</td>\n",
              "      <td>C</td>\n",
              "    </tr>\n",
              "    <tr>\n",
              "      <th>2</th>\n",
              "      <td>3</td>\n",
              "      <td>1</td>\n",
              "      <td>3</td>\n",
              "      <td>Heikkinen, Miss. Laina</td>\n",
              "      <td>female</td>\n",
              "      <td>26.0</td>\n",
              "      <td>0</td>\n",
              "      <td>0</td>\n",
              "      <td>STON/O2. 3101282</td>\n",
              "      <td>7.9250</td>\n",
              "      <td>NaN</td>\n",
              "      <td>S</td>\n",
              "    </tr>\n",
              "    <tr>\n",
              "      <th>3</th>\n",
              "      <td>4</td>\n",
              "      <td>1</td>\n",
              "      <td>1</td>\n",
              "      <td>Futrelle, Mrs. Jacques Heath (Lily May Peel)</td>\n",
              "      <td>female</td>\n",
              "      <td>35.0</td>\n",
              "      <td>1</td>\n",
              "      <td>0</td>\n",
              "      <td>113803</td>\n",
              "      <td>53.1000</td>\n",
              "      <td>C123</td>\n",
              "      <td>S</td>\n",
              "    </tr>\n",
              "    <tr>\n",
              "      <th>4</th>\n",
              "      <td>5</td>\n",
              "      <td>0</td>\n",
              "      <td>3</td>\n",
              "      <td>Allen, Mr. William Henry</td>\n",
              "      <td>male</td>\n",
              "      <td>35.0</td>\n",
              "      <td>0</td>\n",
              "      <td>0</td>\n",
              "      <td>373450</td>\n",
              "      <td>8.0500</td>\n",
              "      <td>NaN</td>\n",
              "      <td>S</td>\n",
              "    </tr>\n",
              "  </tbody>\n",
              "</table>\n",
              "</div>"
            ],
            "text/plain": [
              "   PassengerId  Survived  Pclass  ...     Fare Cabin  Embarked\n",
              "0            1         0       3  ...   7.2500   NaN         S\n",
              "1            2         1       1  ...  71.2833   C85         C\n",
              "2            3         1       3  ...   7.9250   NaN         S\n",
              "3            4         1       1  ...  53.1000  C123         S\n",
              "4            5         0       3  ...   8.0500   NaN         S\n",
              "\n",
              "[5 rows x 12 columns]"
            ]
          },
          "metadata": {
            "tags": []
          },
          "execution_count": 1
        }
      ]
    },
    {
      "cell_type": "code",
      "metadata": {
        "id": "v_xBlV-bcTnj",
        "colab_type": "code",
        "colab": {
          "base_uri": "https://localhost:8080/",
          "height": 235
        },
        "outputId": "cae24fe7-dedb-41db-a5d2-9de365b7e510"
      },
      "source": [
        "#Setting the passenger id to be our index and previewing the changes\n",
        "train = train.set_index('PassengerId')\n",
        "train.tail()"
      ],
      "execution_count": null,
      "outputs": [
        {
          "output_type": "execute_result",
          "data": {
            "text/html": [
              "<div>\n",
              "<style scoped>\n",
              "    .dataframe tbody tr th:only-of-type {\n",
              "        vertical-align: middle;\n",
              "    }\n",
              "\n",
              "    .dataframe tbody tr th {\n",
              "        vertical-align: top;\n",
              "    }\n",
              "\n",
              "    .dataframe thead th {\n",
              "        text-align: right;\n",
              "    }\n",
              "</style>\n",
              "<table border=\"1\" class=\"dataframe\">\n",
              "  <thead>\n",
              "    <tr style=\"text-align: right;\">\n",
              "      <th></th>\n",
              "      <th>Survived</th>\n",
              "      <th>Pclass</th>\n",
              "      <th>Name</th>\n",
              "      <th>Sex</th>\n",
              "      <th>Age</th>\n",
              "      <th>SibSp</th>\n",
              "      <th>Parch</th>\n",
              "      <th>Ticket</th>\n",
              "      <th>Fare</th>\n",
              "      <th>Cabin</th>\n",
              "      <th>Embarked</th>\n",
              "    </tr>\n",
              "    <tr>\n",
              "      <th>PassengerId</th>\n",
              "      <th></th>\n",
              "      <th></th>\n",
              "      <th></th>\n",
              "      <th></th>\n",
              "      <th></th>\n",
              "      <th></th>\n",
              "      <th></th>\n",
              "      <th></th>\n",
              "      <th></th>\n",
              "      <th></th>\n",
              "      <th></th>\n",
              "    </tr>\n",
              "  </thead>\n",
              "  <tbody>\n",
              "    <tr>\n",
              "      <th>887</th>\n",
              "      <td>0</td>\n",
              "      <td>2</td>\n",
              "      <td>Montvila, Rev. Juozas</td>\n",
              "      <td>male</td>\n",
              "      <td>27.0</td>\n",
              "      <td>0</td>\n",
              "      <td>0</td>\n",
              "      <td>211536</td>\n",
              "      <td>13.00</td>\n",
              "      <td>NaN</td>\n",
              "      <td>S</td>\n",
              "    </tr>\n",
              "    <tr>\n",
              "      <th>888</th>\n",
              "      <td>1</td>\n",
              "      <td>1</td>\n",
              "      <td>Graham, Miss. Margaret Edith</td>\n",
              "      <td>female</td>\n",
              "      <td>19.0</td>\n",
              "      <td>0</td>\n",
              "      <td>0</td>\n",
              "      <td>112053</td>\n",
              "      <td>30.00</td>\n",
              "      <td>B42</td>\n",
              "      <td>S</td>\n",
              "    </tr>\n",
              "    <tr>\n",
              "      <th>889</th>\n",
              "      <td>0</td>\n",
              "      <td>3</td>\n",
              "      <td>Johnston, Miss. Catherine Helen \"Carrie\"</td>\n",
              "      <td>female</td>\n",
              "      <td>NaN</td>\n",
              "      <td>1</td>\n",
              "      <td>2</td>\n",
              "      <td>W./C. 6607</td>\n",
              "      <td>23.45</td>\n",
              "      <td>NaN</td>\n",
              "      <td>S</td>\n",
              "    </tr>\n",
              "    <tr>\n",
              "      <th>890</th>\n",
              "      <td>1</td>\n",
              "      <td>1</td>\n",
              "      <td>Behr, Mr. Karl Howell</td>\n",
              "      <td>male</td>\n",
              "      <td>26.0</td>\n",
              "      <td>0</td>\n",
              "      <td>0</td>\n",
              "      <td>111369</td>\n",
              "      <td>30.00</td>\n",
              "      <td>C148</td>\n",
              "      <td>C</td>\n",
              "    </tr>\n",
              "    <tr>\n",
              "      <th>891</th>\n",
              "      <td>0</td>\n",
              "      <td>3</td>\n",
              "      <td>Dooley, Mr. Patrick</td>\n",
              "      <td>male</td>\n",
              "      <td>32.0</td>\n",
              "      <td>0</td>\n",
              "      <td>0</td>\n",
              "      <td>370376</td>\n",
              "      <td>7.75</td>\n",
              "      <td>NaN</td>\n",
              "      <td>Q</td>\n",
              "    </tr>\n",
              "  </tbody>\n",
              "</table>\n",
              "</div>"
            ],
            "text/plain": [
              "             Survived  Pclass  ... Cabin Embarked\n",
              "PassengerId                    ...               \n",
              "887                 0       2  ...   NaN        S\n",
              "888                 1       1  ...   B42        S\n",
              "889                 0       3  ...   NaN        S\n",
              "890                 1       1  ...  C148        C\n",
              "891                 0       3  ...   NaN        Q\n",
              "\n",
              "[5 rows x 11 columns]"
            ]
          },
          "metadata": {
            "tags": []
          },
          "execution_count": 2
        }
      ]
    },
    {
      "cell_type": "code",
      "metadata": {
        "id": "JxRV555sef0G",
        "colab_type": "code",
        "colab": {
          "base_uri": "https://localhost:8080/",
          "height": 34
        },
        "outputId": "2eb50bce-ab6d-4191-cb08-4c995ea345ad"
      },
      "source": [
        "#Finding more about the number of columns and rows\n",
        "print('The train dataset has ', train.shape[1], 'columns and ', train.shape[0], 'rows.')"
      ],
      "execution_count": null,
      "outputs": [
        {
          "output_type": "stream",
          "text": [
            "The train dataset has  11 columns and  891 rows.\n"
          ],
          "name": "stdout"
        }
      ]
    },
    {
      "cell_type": "code",
      "metadata": {
        "id": "xu4OKYj9hBKu",
        "colab_type": "code",
        "colab": {
          "base_uri": "https://localhost:8080/",
          "height": 323
        },
        "outputId": "5e15c3e1-fa3f-4be6-bba7-d612784782ed"
      },
      "source": [
        "#Finding out about the datatypes of our train dataset\n",
        "train.info()\n",
        "#The datatypes of our columns are in their correct format"
      ],
      "execution_count": null,
      "outputs": [
        {
          "output_type": "stream",
          "text": [
            "<class 'pandas.core.frame.DataFrame'>\n",
            "Int64Index: 891 entries, 1 to 891\n",
            "Data columns (total 11 columns):\n",
            " #   Column    Non-Null Count  Dtype  \n",
            "---  ------    --------------  -----  \n",
            " 0   Survived  891 non-null    int64  \n",
            " 1   Pclass    891 non-null    int64  \n",
            " 2   Name      891 non-null    object \n",
            " 3   Sex       891 non-null    object \n",
            " 4   Age       714 non-null    float64\n",
            " 5   SibSp     891 non-null    int64  \n",
            " 6   Parch     891 non-null    int64  \n",
            " 7   Ticket    891 non-null    object \n",
            " 8   Fare      891 non-null    float64\n",
            " 9   Cabin     204 non-null    object \n",
            " 10  Embarked  889 non-null    object \n",
            "dtypes: float64(2), int64(4), object(5)\n",
            "memory usage: 83.5+ KB\n"
          ],
          "name": "stdout"
        }
      ]
    },
    {
      "cell_type": "code",
      "metadata": {
        "id": "akWHaLKBhFNy",
        "colab_type": "code",
        "colab": {
          "base_uri": "https://localhost:8080/",
          "height": 297
        },
        "outputId": "b4089c8d-34c1-42d7-d12b-247e1be32189"
      },
      "source": [
        "#Doing basic statistics of the train dataset\n",
        "train.describe()"
      ],
      "execution_count": null,
      "outputs": [
        {
          "output_type": "execute_result",
          "data": {
            "text/html": [
              "<div>\n",
              "<style scoped>\n",
              "    .dataframe tbody tr th:only-of-type {\n",
              "        vertical-align: middle;\n",
              "    }\n",
              "\n",
              "    .dataframe tbody tr th {\n",
              "        vertical-align: top;\n",
              "    }\n",
              "\n",
              "    .dataframe thead th {\n",
              "        text-align: right;\n",
              "    }\n",
              "</style>\n",
              "<table border=\"1\" class=\"dataframe\">\n",
              "  <thead>\n",
              "    <tr style=\"text-align: right;\">\n",
              "      <th></th>\n",
              "      <th>Survived</th>\n",
              "      <th>Pclass</th>\n",
              "      <th>Age</th>\n",
              "      <th>SibSp</th>\n",
              "      <th>Parch</th>\n",
              "      <th>Fare</th>\n",
              "    </tr>\n",
              "  </thead>\n",
              "  <tbody>\n",
              "    <tr>\n",
              "      <th>count</th>\n",
              "      <td>891.000000</td>\n",
              "      <td>891.000000</td>\n",
              "      <td>714.000000</td>\n",
              "      <td>891.000000</td>\n",
              "      <td>891.000000</td>\n",
              "      <td>891.000000</td>\n",
              "    </tr>\n",
              "    <tr>\n",
              "      <th>mean</th>\n",
              "      <td>0.383838</td>\n",
              "      <td>2.308642</td>\n",
              "      <td>29.699118</td>\n",
              "      <td>0.523008</td>\n",
              "      <td>0.381594</td>\n",
              "      <td>32.204208</td>\n",
              "    </tr>\n",
              "    <tr>\n",
              "      <th>std</th>\n",
              "      <td>0.486592</td>\n",
              "      <td>0.836071</td>\n",
              "      <td>14.526497</td>\n",
              "      <td>1.102743</td>\n",
              "      <td>0.806057</td>\n",
              "      <td>49.693429</td>\n",
              "    </tr>\n",
              "    <tr>\n",
              "      <th>min</th>\n",
              "      <td>0.000000</td>\n",
              "      <td>1.000000</td>\n",
              "      <td>0.420000</td>\n",
              "      <td>0.000000</td>\n",
              "      <td>0.000000</td>\n",
              "      <td>0.000000</td>\n",
              "    </tr>\n",
              "    <tr>\n",
              "      <th>25%</th>\n",
              "      <td>0.000000</td>\n",
              "      <td>2.000000</td>\n",
              "      <td>20.125000</td>\n",
              "      <td>0.000000</td>\n",
              "      <td>0.000000</td>\n",
              "      <td>7.910400</td>\n",
              "    </tr>\n",
              "    <tr>\n",
              "      <th>50%</th>\n",
              "      <td>0.000000</td>\n",
              "      <td>3.000000</td>\n",
              "      <td>28.000000</td>\n",
              "      <td>0.000000</td>\n",
              "      <td>0.000000</td>\n",
              "      <td>14.454200</td>\n",
              "    </tr>\n",
              "    <tr>\n",
              "      <th>75%</th>\n",
              "      <td>1.000000</td>\n",
              "      <td>3.000000</td>\n",
              "      <td>38.000000</td>\n",
              "      <td>1.000000</td>\n",
              "      <td>0.000000</td>\n",
              "      <td>31.000000</td>\n",
              "    </tr>\n",
              "    <tr>\n",
              "      <th>max</th>\n",
              "      <td>1.000000</td>\n",
              "      <td>3.000000</td>\n",
              "      <td>80.000000</td>\n",
              "      <td>8.000000</td>\n",
              "      <td>6.000000</td>\n",
              "      <td>512.329200</td>\n",
              "    </tr>\n",
              "  </tbody>\n",
              "</table>\n",
              "</div>"
            ],
            "text/plain": [
              "         Survived      Pclass         Age       SibSp       Parch        Fare\n",
              "count  891.000000  891.000000  714.000000  891.000000  891.000000  891.000000\n",
              "mean     0.383838    2.308642   29.699118    0.523008    0.381594   32.204208\n",
              "std      0.486592    0.836071   14.526497    1.102743    0.806057   49.693429\n",
              "min      0.000000    1.000000    0.420000    0.000000    0.000000    0.000000\n",
              "25%      0.000000    2.000000   20.125000    0.000000    0.000000    7.910400\n",
              "50%      0.000000    3.000000   28.000000    0.000000    0.000000   14.454200\n",
              "75%      1.000000    3.000000   38.000000    1.000000    0.000000   31.000000\n",
              "max      1.000000    3.000000   80.000000    8.000000    6.000000  512.329200"
            ]
          },
          "metadata": {
            "tags": []
          },
          "execution_count": 5
        }
      ]
    },
    {
      "cell_type": "markdown",
      "metadata": {
        "id": "zS9Ta-_VOW0v",
        "colab_type": "text"
      },
      "source": [
        "I imported the test dataset to use it for the Exploratory Data Analysis."
      ]
    },
    {
      "cell_type": "code",
      "metadata": {
        "id": "d3ndgyDxmpEx",
        "colab_type": "code",
        "colab": {
          "base_uri": "https://localhost:8080/",
          "height": 204
        },
        "outputId": "eee0c247-9592-4a81-dbea-05ac26501639"
      },
      "source": [
        "#Reading and previewing the test dataset\n",
        "test = pd.read_csv('test.csv')\n",
        "test.head()"
      ],
      "execution_count": null,
      "outputs": [
        {
          "output_type": "execute_result",
          "data": {
            "text/html": [
              "<div>\n",
              "<style scoped>\n",
              "    .dataframe tbody tr th:only-of-type {\n",
              "        vertical-align: middle;\n",
              "    }\n",
              "\n",
              "    .dataframe tbody tr th {\n",
              "        vertical-align: top;\n",
              "    }\n",
              "\n",
              "    .dataframe thead th {\n",
              "        text-align: right;\n",
              "    }\n",
              "</style>\n",
              "<table border=\"1\" class=\"dataframe\">\n",
              "  <thead>\n",
              "    <tr style=\"text-align: right;\">\n",
              "      <th></th>\n",
              "      <th>PassengerId</th>\n",
              "      <th>Pclass</th>\n",
              "      <th>Name</th>\n",
              "      <th>Sex</th>\n",
              "      <th>Age</th>\n",
              "      <th>SibSp</th>\n",
              "      <th>Parch</th>\n",
              "      <th>Ticket</th>\n",
              "      <th>Fare</th>\n",
              "      <th>Cabin</th>\n",
              "      <th>Embarked</th>\n",
              "    </tr>\n",
              "  </thead>\n",
              "  <tbody>\n",
              "    <tr>\n",
              "      <th>0</th>\n",
              "      <td>892</td>\n",
              "      <td>3</td>\n",
              "      <td>Kelly, Mr. James</td>\n",
              "      <td>male</td>\n",
              "      <td>34.5</td>\n",
              "      <td>0</td>\n",
              "      <td>0</td>\n",
              "      <td>330911</td>\n",
              "      <td>7.8292</td>\n",
              "      <td>NaN</td>\n",
              "      <td>Q</td>\n",
              "    </tr>\n",
              "    <tr>\n",
              "      <th>1</th>\n",
              "      <td>893</td>\n",
              "      <td>3</td>\n",
              "      <td>Wilkes, Mrs. James (Ellen Needs)</td>\n",
              "      <td>female</td>\n",
              "      <td>47.0</td>\n",
              "      <td>1</td>\n",
              "      <td>0</td>\n",
              "      <td>363272</td>\n",
              "      <td>7.0000</td>\n",
              "      <td>NaN</td>\n",
              "      <td>S</td>\n",
              "    </tr>\n",
              "    <tr>\n",
              "      <th>2</th>\n",
              "      <td>894</td>\n",
              "      <td>2</td>\n",
              "      <td>Myles, Mr. Thomas Francis</td>\n",
              "      <td>male</td>\n",
              "      <td>62.0</td>\n",
              "      <td>0</td>\n",
              "      <td>0</td>\n",
              "      <td>240276</td>\n",
              "      <td>9.6875</td>\n",
              "      <td>NaN</td>\n",
              "      <td>Q</td>\n",
              "    </tr>\n",
              "    <tr>\n",
              "      <th>3</th>\n",
              "      <td>895</td>\n",
              "      <td>3</td>\n",
              "      <td>Wirz, Mr. Albert</td>\n",
              "      <td>male</td>\n",
              "      <td>27.0</td>\n",
              "      <td>0</td>\n",
              "      <td>0</td>\n",
              "      <td>315154</td>\n",
              "      <td>8.6625</td>\n",
              "      <td>NaN</td>\n",
              "      <td>S</td>\n",
              "    </tr>\n",
              "    <tr>\n",
              "      <th>4</th>\n",
              "      <td>896</td>\n",
              "      <td>3</td>\n",
              "      <td>Hirvonen, Mrs. Alexander (Helga E Lindqvist)</td>\n",
              "      <td>female</td>\n",
              "      <td>22.0</td>\n",
              "      <td>1</td>\n",
              "      <td>1</td>\n",
              "      <td>3101298</td>\n",
              "      <td>12.2875</td>\n",
              "      <td>NaN</td>\n",
              "      <td>S</td>\n",
              "    </tr>\n",
              "  </tbody>\n",
              "</table>\n",
              "</div>"
            ],
            "text/plain": [
              "   PassengerId  Pclass  ... Cabin Embarked\n",
              "0          892       3  ...   NaN        Q\n",
              "1          893       3  ...   NaN        S\n",
              "2          894       2  ...   NaN        Q\n",
              "3          895       3  ...   NaN        S\n",
              "4          896       3  ...   NaN        S\n",
              "\n",
              "[5 rows x 11 columns]"
            ]
          },
          "metadata": {
            "tags": []
          },
          "execution_count": 6
        }
      ]
    },
    {
      "cell_type": "code",
      "metadata": {
        "id": "mkGhH1ymdxUl",
        "colab_type": "code",
        "colab": {
          "base_uri": "https://localhost:8080/",
          "height": 235
        },
        "outputId": "fd9f950c-a877-4aba-ea4c-271bec90a9be"
      },
      "source": [
        "#Setting the Passenger Id as our index column\n",
        "test = test.set_index('PassengerId')\n",
        "test.head()"
      ],
      "execution_count": null,
      "outputs": [
        {
          "output_type": "execute_result",
          "data": {
            "text/html": [
              "<div>\n",
              "<style scoped>\n",
              "    .dataframe tbody tr th:only-of-type {\n",
              "        vertical-align: middle;\n",
              "    }\n",
              "\n",
              "    .dataframe tbody tr th {\n",
              "        vertical-align: top;\n",
              "    }\n",
              "\n",
              "    .dataframe thead th {\n",
              "        text-align: right;\n",
              "    }\n",
              "</style>\n",
              "<table border=\"1\" class=\"dataframe\">\n",
              "  <thead>\n",
              "    <tr style=\"text-align: right;\">\n",
              "      <th></th>\n",
              "      <th>Pclass</th>\n",
              "      <th>Name</th>\n",
              "      <th>Sex</th>\n",
              "      <th>Age</th>\n",
              "      <th>SibSp</th>\n",
              "      <th>Parch</th>\n",
              "      <th>Ticket</th>\n",
              "      <th>Fare</th>\n",
              "      <th>Cabin</th>\n",
              "      <th>Embarked</th>\n",
              "    </tr>\n",
              "    <tr>\n",
              "      <th>PassengerId</th>\n",
              "      <th></th>\n",
              "      <th></th>\n",
              "      <th></th>\n",
              "      <th></th>\n",
              "      <th></th>\n",
              "      <th></th>\n",
              "      <th></th>\n",
              "      <th></th>\n",
              "      <th></th>\n",
              "      <th></th>\n",
              "    </tr>\n",
              "  </thead>\n",
              "  <tbody>\n",
              "    <tr>\n",
              "      <th>892</th>\n",
              "      <td>3</td>\n",
              "      <td>Kelly, Mr. James</td>\n",
              "      <td>male</td>\n",
              "      <td>34.5</td>\n",
              "      <td>0</td>\n",
              "      <td>0</td>\n",
              "      <td>330911</td>\n",
              "      <td>7.8292</td>\n",
              "      <td>NaN</td>\n",
              "      <td>Q</td>\n",
              "    </tr>\n",
              "    <tr>\n",
              "      <th>893</th>\n",
              "      <td>3</td>\n",
              "      <td>Wilkes, Mrs. James (Ellen Needs)</td>\n",
              "      <td>female</td>\n",
              "      <td>47.0</td>\n",
              "      <td>1</td>\n",
              "      <td>0</td>\n",
              "      <td>363272</td>\n",
              "      <td>7.0000</td>\n",
              "      <td>NaN</td>\n",
              "      <td>S</td>\n",
              "    </tr>\n",
              "    <tr>\n",
              "      <th>894</th>\n",
              "      <td>2</td>\n",
              "      <td>Myles, Mr. Thomas Francis</td>\n",
              "      <td>male</td>\n",
              "      <td>62.0</td>\n",
              "      <td>0</td>\n",
              "      <td>0</td>\n",
              "      <td>240276</td>\n",
              "      <td>9.6875</td>\n",
              "      <td>NaN</td>\n",
              "      <td>Q</td>\n",
              "    </tr>\n",
              "    <tr>\n",
              "      <th>895</th>\n",
              "      <td>3</td>\n",
              "      <td>Wirz, Mr. Albert</td>\n",
              "      <td>male</td>\n",
              "      <td>27.0</td>\n",
              "      <td>0</td>\n",
              "      <td>0</td>\n",
              "      <td>315154</td>\n",
              "      <td>8.6625</td>\n",
              "      <td>NaN</td>\n",
              "      <td>S</td>\n",
              "    </tr>\n",
              "    <tr>\n",
              "      <th>896</th>\n",
              "      <td>3</td>\n",
              "      <td>Hirvonen, Mrs. Alexander (Helga E Lindqvist)</td>\n",
              "      <td>female</td>\n",
              "      <td>22.0</td>\n",
              "      <td>1</td>\n",
              "      <td>1</td>\n",
              "      <td>3101298</td>\n",
              "      <td>12.2875</td>\n",
              "      <td>NaN</td>\n",
              "      <td>S</td>\n",
              "    </tr>\n",
              "  </tbody>\n",
              "</table>\n",
              "</div>"
            ],
            "text/plain": [
              "             Pclass  ... Embarked\n",
              "PassengerId          ...         \n",
              "892               3  ...        Q\n",
              "893               3  ...        S\n",
              "894               2  ...        Q\n",
              "895               3  ...        S\n",
              "896               3  ...        S\n",
              "\n",
              "[5 rows x 10 columns]"
            ]
          },
          "metadata": {
            "tags": []
          },
          "execution_count": 7
        }
      ]
    },
    {
      "cell_type": "code",
      "metadata": {
        "id": "WSJ-k9Kzm4GP",
        "colab_type": "code",
        "colab": {
          "base_uri": "https://localhost:8080/",
          "height": 34
        },
        "outputId": "ed99e989-2171-4929-ed0b-dc8a0578510a"
      },
      "source": [
        "#Finding out the number of columns and rows in our test dataset\n",
        "print('The test dataset has ', test.shape[1], 'columns and ', test.shape[0], 'rows.')"
      ],
      "execution_count": null,
      "outputs": [
        {
          "output_type": "stream",
          "text": [
            "The test dataset has  10 columns and  418 rows.\n"
          ],
          "name": "stdout"
        }
      ]
    },
    {
      "cell_type": "code",
      "metadata": {
        "id": "aBEdW-lsnSHs",
        "colab_type": "code",
        "colab": {
          "base_uri": "https://localhost:8080/",
          "height": 306
        },
        "outputId": "d2fbfa8d-c1ec-4b3e-ad83-50c1ee8b018c"
      },
      "source": [
        "#Finding out the dataset column types\n",
        "test.info()"
      ],
      "execution_count": null,
      "outputs": [
        {
          "output_type": "stream",
          "text": [
            "<class 'pandas.core.frame.DataFrame'>\n",
            "Int64Index: 418 entries, 892 to 1309\n",
            "Data columns (total 10 columns):\n",
            " #   Column    Non-Null Count  Dtype  \n",
            "---  ------    --------------  -----  \n",
            " 0   Pclass    418 non-null    int64  \n",
            " 1   Name      418 non-null    object \n",
            " 2   Sex       418 non-null    object \n",
            " 3   Age       332 non-null    float64\n",
            " 4   SibSp     418 non-null    int64  \n",
            " 5   Parch     418 non-null    int64  \n",
            " 6   Ticket    418 non-null    object \n",
            " 7   Fare      417 non-null    float64\n",
            " 8   Cabin     91 non-null     object \n",
            " 9   Embarked  418 non-null    object \n",
            "dtypes: float64(2), int64(3), object(5)\n",
            "memory usage: 35.9+ KB\n"
          ],
          "name": "stdout"
        }
      ]
    },
    {
      "cell_type": "code",
      "metadata": {
        "id": "Pv3Kwf52nWVD",
        "colab_type": "code",
        "colab": {
          "base_uri": "https://localhost:8080/",
          "height": 297
        },
        "outputId": "155629e4-c33c-4f5b-aa93-46cb150def58"
      },
      "source": [
        "#Finding out the basic statistics of the test data\n",
        "test.describe()"
      ],
      "execution_count": null,
      "outputs": [
        {
          "output_type": "execute_result",
          "data": {
            "text/html": [
              "<div>\n",
              "<style scoped>\n",
              "    .dataframe tbody tr th:only-of-type {\n",
              "        vertical-align: middle;\n",
              "    }\n",
              "\n",
              "    .dataframe tbody tr th {\n",
              "        vertical-align: top;\n",
              "    }\n",
              "\n",
              "    .dataframe thead th {\n",
              "        text-align: right;\n",
              "    }\n",
              "</style>\n",
              "<table border=\"1\" class=\"dataframe\">\n",
              "  <thead>\n",
              "    <tr style=\"text-align: right;\">\n",
              "      <th></th>\n",
              "      <th>Pclass</th>\n",
              "      <th>Age</th>\n",
              "      <th>SibSp</th>\n",
              "      <th>Parch</th>\n",
              "      <th>Fare</th>\n",
              "    </tr>\n",
              "  </thead>\n",
              "  <tbody>\n",
              "    <tr>\n",
              "      <th>count</th>\n",
              "      <td>418.000000</td>\n",
              "      <td>332.000000</td>\n",
              "      <td>418.000000</td>\n",
              "      <td>418.000000</td>\n",
              "      <td>417.000000</td>\n",
              "    </tr>\n",
              "    <tr>\n",
              "      <th>mean</th>\n",
              "      <td>2.265550</td>\n",
              "      <td>30.272590</td>\n",
              "      <td>0.447368</td>\n",
              "      <td>0.392344</td>\n",
              "      <td>35.627188</td>\n",
              "    </tr>\n",
              "    <tr>\n",
              "      <th>std</th>\n",
              "      <td>0.841838</td>\n",
              "      <td>14.181209</td>\n",
              "      <td>0.896760</td>\n",
              "      <td>0.981429</td>\n",
              "      <td>55.907576</td>\n",
              "    </tr>\n",
              "    <tr>\n",
              "      <th>min</th>\n",
              "      <td>1.000000</td>\n",
              "      <td>0.170000</td>\n",
              "      <td>0.000000</td>\n",
              "      <td>0.000000</td>\n",
              "      <td>0.000000</td>\n",
              "    </tr>\n",
              "    <tr>\n",
              "      <th>25%</th>\n",
              "      <td>1.000000</td>\n",
              "      <td>21.000000</td>\n",
              "      <td>0.000000</td>\n",
              "      <td>0.000000</td>\n",
              "      <td>7.895800</td>\n",
              "    </tr>\n",
              "    <tr>\n",
              "      <th>50%</th>\n",
              "      <td>3.000000</td>\n",
              "      <td>27.000000</td>\n",
              "      <td>0.000000</td>\n",
              "      <td>0.000000</td>\n",
              "      <td>14.454200</td>\n",
              "    </tr>\n",
              "    <tr>\n",
              "      <th>75%</th>\n",
              "      <td>3.000000</td>\n",
              "      <td>39.000000</td>\n",
              "      <td>1.000000</td>\n",
              "      <td>0.000000</td>\n",
              "      <td>31.500000</td>\n",
              "    </tr>\n",
              "    <tr>\n",
              "      <th>max</th>\n",
              "      <td>3.000000</td>\n",
              "      <td>76.000000</td>\n",
              "      <td>8.000000</td>\n",
              "      <td>9.000000</td>\n",
              "      <td>512.329200</td>\n",
              "    </tr>\n",
              "  </tbody>\n",
              "</table>\n",
              "</div>"
            ],
            "text/plain": [
              "           Pclass         Age       SibSp       Parch        Fare\n",
              "count  418.000000  332.000000  418.000000  418.000000  417.000000\n",
              "mean     2.265550   30.272590    0.447368    0.392344   35.627188\n",
              "std      0.841838   14.181209    0.896760    0.981429   55.907576\n",
              "min      1.000000    0.170000    0.000000    0.000000    0.000000\n",
              "25%      1.000000   21.000000    0.000000    0.000000    7.895800\n",
              "50%      3.000000   27.000000    0.000000    0.000000   14.454200\n",
              "75%      3.000000   39.000000    1.000000    0.000000   31.500000\n",
              "max      3.000000   76.000000    8.000000    9.000000  512.329200"
            ]
          },
          "metadata": {
            "tags": []
          },
          "execution_count": 10
        }
      ]
    },
    {
      "cell_type": "markdown",
      "metadata": {
        "id": "Ag_xW2SafYNa",
        "colab_type": "text"
      },
      "source": [
        "Column Description\n",
        "\n",
        "\n",
        "\n",
        "*   Survived : This shows whether the individual survived or not.(0 = No; 1 = Yes)\n",
        "*   Pclass : This shows the socio-economic class of the passenger where the first class shows a fairly stable economic individual while the third class shows a less stable economic individual. (1  = 1st Class, 2 = 2nd Class, 3 = 3rd Class)\n",
        "*   Name : This shows the name of the individual.\n",
        "*   Sex : This shows the gender of the individual.\n",
        "*   Age : This column shows the estimate of the ages of the individual.\n",
        "*   Sibsp : This column shows the number of siblings/ spouses on board.\n",
        "*   Parch : This columns shows the number of parents/childern on board.\n",
        "*   Ticket Number : This shows the ticket number of the passenger on board.\n",
        "*   Fare : This column shows the amount of transport money the individual paid.\n",
        "*   Cabin : This shows the cabin or area one was in during the voyage.\n",
        "*   Embarked : This column shows the port where the individual embarked on; C representing Cherbough, Q representing Queenstown, S representing Southampton.\n",
        "\n"
      ]
    },
    {
      "cell_type": "markdown",
      "metadata": {
        "id": "ZRzzDZRkQuAQ",
        "colab_type": "text"
      },
      "source": [
        "# 3. Feature Engineering"
      ]
    },
    {
      "cell_type": "code",
      "metadata": {
        "id": "3F0FcMdHQylg",
        "colab_type": "code",
        "colab": {}
      },
      "source": [
        "#Setting the column names to be of lower case and stripping any spaces between them\n",
        "train.columns = train.columns.str.strip().str.lower()\n",
        "test.columns = test.columns.str.strip().str.lower()"
      ],
      "execution_count": null,
      "outputs": []
    },
    {
      "cell_type": "markdown",
      "metadata": {
        "id": "jNK9LH7wV9cc",
        "colab_type": "text"
      },
      "source": [
        "I needed to find out whether one's royalty,profession,status had a higher chances of survival. So I'll be picking the titles from the names since I noticed the different Mr, Mrs from the names column."
      ]
    },
    {
      "cell_type": "code",
      "metadata": {
        "id": "0SGn3a0bREeW",
        "colab_type": "code",
        "colab": {}
      },
      "source": [
        "#Extracting the title of the individuals aboard.\n",
        "train['title'] = train.name.str.extract(r',\\s*([^\\.]*)\\s*\\.', expand=False)\n",
        "test['title'] = test.name.str.extract(r',\\s*([^\\.]*)\\s*\\.', expand=False)"
      ],
      "execution_count": null,
      "outputs": []
    },
    {
      "cell_type": "code",
      "metadata": {
        "id": "pbh93oRnRaGX",
        "colab_type": "code",
        "colab": {}
      },
      "source": [
        "#Dropping the names from the train and test data\n",
        "train = train.drop(['name'],axis=1)\n",
        "test = test.drop(['name'],axis=1)"
      ],
      "execution_count": null,
      "outputs": []
    },
    {
      "cell_type": "markdown",
      "metadata": {
        "id": "9MmVcPdfWkPF",
        "colab_type": "text"
      },
      "source": [
        "I also wanted to find out whether the position one had in the ship had a chance of survival compared to the rest. Though it had very many missing values, since the cabin column seemed to have a letter in the beginning which I believed where the different decks in the ship"
      ]
    },
    {
      "cell_type": "code",
      "metadata": {
        "id": "uTPKznjaR74r",
        "colab_type": "code",
        "colab": {}
      },
      "source": [
        "#Extracting the deck from the cabin column using the first letter in the string\n",
        "train[\"deck\"] = train[\"cabin\"].str.slice(0,1)\n",
        "test[\"deck\"] = test[\"cabin\"].str.slice(0,1)"
      ],
      "execution_count": null,
      "outputs": []
    },
    {
      "cell_type": "code",
      "metadata": {
        "id": "1oHd0G1gSPZZ",
        "colab_type": "code",
        "colab": {}
      },
      "source": [
        "#Dropping the cabin column since its no longer useful\n",
        "train = train.drop(['cabin'],axis=1)\n",
        "test = test.drop(['cabin'],axis=1)"
      ],
      "execution_count": null,
      "outputs": []
    },
    {
      "cell_type": "code",
      "metadata": {
        "id": "C2af6idSStA5",
        "colab_type": "code",
        "colab": {}
      },
      "source": [
        "#Since the ship had families attributed to the sibsp and parch column, I added up the two columns \n",
        "#and also the individual whose name was there\n",
        "train['family_size'] = train['sibsp'] + train['parch'] + 1\n",
        "test['family_size'] = test['sibsp'] + test['parch'] + 1"
      ],
      "execution_count": null,
      "outputs": []
    },
    {
      "cell_type": "code",
      "metadata": {
        "id": "71Qhwkr0TIlI",
        "colab_type": "code",
        "colab": {}
      },
      "source": [
        "#Dropping the sibsp, parch and ticket columns. I believed the ticket was unique and had no\n",
        "#information attributed to it probably the location which our embarked column had\n",
        "train = train.drop(['sibsp','parch','ticket'],axis=1)\n",
        "test = test.drop(['sibsp','parch','ticket'],axis=1)"
      ],
      "execution_count": null,
      "outputs": []
    },
    {
      "cell_type": "code",
      "metadata": {
        "id": "2LblH7VMTlb3",
        "colab_type": "code",
        "colab": {}
      },
      "source": [
        "#I decided to fill the deck column with zeros.\n",
        "train['deck'] = train['deck'].fillna(0)\n",
        "test['deck'] = test['deck'].fillna(0)"
      ],
      "execution_count": null,
      "outputs": []
    },
    {
      "cell_type": "code",
      "metadata": {
        "id": "WoKWQTqlYBbp",
        "colab_type": "code",
        "colab": {}
      },
      "source": [
        "#Replacing the C,Q and S with their respective embarked areas.\n",
        "train['embarked'] = train['embarked'].replace(['C','Q','S'],['Cherbough','Queenstown','Southampton'])\n",
        "test['embarked'] = test['embarked'].replace(['C','Q','S'],['Cherbough','Queenstown','Southampton'])"
      ],
      "execution_count": null,
      "outputs": []
    },
    {
      "cell_type": "code",
      "metadata": {
        "id": "Xa1wODegRNJw",
        "colab_type": "code",
        "colab": {
          "base_uri": "https://localhost:8080/",
          "height": 235
        },
        "outputId": "bddaa697-4e46-4aaa-a0b7-da7f9614e6c1"
      },
      "source": [
        "#Previewing the changes in our dataset\n",
        "train.head()"
      ],
      "execution_count": null,
      "outputs": [
        {
          "output_type": "execute_result",
          "data": {
            "text/html": [
              "<div>\n",
              "<style scoped>\n",
              "    .dataframe tbody tr th:only-of-type {\n",
              "        vertical-align: middle;\n",
              "    }\n",
              "\n",
              "    .dataframe tbody tr th {\n",
              "        vertical-align: top;\n",
              "    }\n",
              "\n",
              "    .dataframe thead th {\n",
              "        text-align: right;\n",
              "    }\n",
              "</style>\n",
              "<table border=\"1\" class=\"dataframe\">\n",
              "  <thead>\n",
              "    <tr style=\"text-align: right;\">\n",
              "      <th></th>\n",
              "      <th>survived</th>\n",
              "      <th>pclass</th>\n",
              "      <th>sex</th>\n",
              "      <th>age</th>\n",
              "      <th>fare</th>\n",
              "      <th>embarked</th>\n",
              "      <th>title</th>\n",
              "      <th>deck</th>\n",
              "      <th>family_size</th>\n",
              "    </tr>\n",
              "    <tr>\n",
              "      <th>PassengerId</th>\n",
              "      <th></th>\n",
              "      <th></th>\n",
              "      <th></th>\n",
              "      <th></th>\n",
              "      <th></th>\n",
              "      <th></th>\n",
              "      <th></th>\n",
              "      <th></th>\n",
              "      <th></th>\n",
              "    </tr>\n",
              "  </thead>\n",
              "  <tbody>\n",
              "    <tr>\n",
              "      <th>1</th>\n",
              "      <td>0</td>\n",
              "      <td>3</td>\n",
              "      <td>male</td>\n",
              "      <td>22.0</td>\n",
              "      <td>7.2500</td>\n",
              "      <td>Southampton</td>\n",
              "      <td>Mr</td>\n",
              "      <td>0</td>\n",
              "      <td>2</td>\n",
              "    </tr>\n",
              "    <tr>\n",
              "      <th>2</th>\n",
              "      <td>1</td>\n",
              "      <td>1</td>\n",
              "      <td>female</td>\n",
              "      <td>38.0</td>\n",
              "      <td>71.2833</td>\n",
              "      <td>Cherbough</td>\n",
              "      <td>Mrs</td>\n",
              "      <td>C</td>\n",
              "      <td>2</td>\n",
              "    </tr>\n",
              "    <tr>\n",
              "      <th>3</th>\n",
              "      <td>1</td>\n",
              "      <td>3</td>\n",
              "      <td>female</td>\n",
              "      <td>26.0</td>\n",
              "      <td>7.9250</td>\n",
              "      <td>Southampton</td>\n",
              "      <td>Miss</td>\n",
              "      <td>0</td>\n",
              "      <td>1</td>\n",
              "    </tr>\n",
              "    <tr>\n",
              "      <th>4</th>\n",
              "      <td>1</td>\n",
              "      <td>1</td>\n",
              "      <td>female</td>\n",
              "      <td>35.0</td>\n",
              "      <td>53.1000</td>\n",
              "      <td>Southampton</td>\n",
              "      <td>Mrs</td>\n",
              "      <td>C</td>\n",
              "      <td>2</td>\n",
              "    </tr>\n",
              "    <tr>\n",
              "      <th>5</th>\n",
              "      <td>0</td>\n",
              "      <td>3</td>\n",
              "      <td>male</td>\n",
              "      <td>35.0</td>\n",
              "      <td>8.0500</td>\n",
              "      <td>Southampton</td>\n",
              "      <td>Mr</td>\n",
              "      <td>0</td>\n",
              "      <td>1</td>\n",
              "    </tr>\n",
              "  </tbody>\n",
              "</table>\n",
              "</div>"
            ],
            "text/plain": [
              "             survived  pclass     sex  ...  title  deck family_size\n",
              "PassengerId                            ...                         \n",
              "1                   0       3    male  ...     Mr     0           2\n",
              "2                   1       1  female  ...    Mrs     C           2\n",
              "3                   1       3  female  ...   Miss     0           1\n",
              "4                   1       1  female  ...    Mrs     C           2\n",
              "5                   0       3    male  ...     Mr     0           1\n",
              "\n",
              "[5 rows x 9 columns]"
            ]
          },
          "metadata": {
            "tags": []
          },
          "execution_count": 20
        }
      ]
    },
    {
      "cell_type": "markdown",
      "metadata": {
        "id": "lClGFMyoi6bV",
        "colab_type": "text"
      },
      "source": [
        "# 3. Cleaning the dataset"
      ]
    },
    {
      "cell_type": "code",
      "metadata": {
        "id": "PL_cmD5pP85h",
        "colab_type": "code",
        "colab": {
          "base_uri": "https://localhost:8080/",
          "height": 34
        },
        "outputId": "9cdd068f-dfc7-4499-816e-6c1c74bbe939"
      },
      "source": [
        "#Concating the train and test data for the Exploratory Data Analysis and checking its shape\n",
        "df = pd.concat([train, test], sort = False)\n",
        "df.shape"
      ],
      "execution_count": null,
      "outputs": [
        {
          "output_type": "execute_result",
          "data": {
            "text/plain": [
              "(1309, 9)"
            ]
          },
          "metadata": {
            "tags": []
          },
          "execution_count": 21
        }
      ]
    },
    {
      "cell_type": "markdown",
      "metadata": {
        "id": "mTCdONbgZDvp",
        "colab_type": "text"
      },
      "source": [
        "Our total number of entries in the Titanic Dataset had 1309 rows and 9 columns."
      ]
    },
    {
      "cell_type": "code",
      "metadata": {
        "id": "yPe7d05AiqAM",
        "colab_type": "code",
        "colab": {
          "base_uri": "https://localhost:8080/",
          "height": 408
        },
        "outputId": "5f9ba2ca-1bb2-4991-ba15-7629b3d0f6a5"
      },
      "source": [
        "#Checking for null values\n",
        "print(df.isnull().sum())\n",
        "print('\\n')\n",
        "print('Train dataset missing values.')\n",
        "train.isnull().sum()"
      ],
      "execution_count": null,
      "outputs": [
        {
          "output_type": "stream",
          "text": [
            "survived       418\n",
            "pclass           0\n",
            "sex              0\n",
            "age            263\n",
            "fare             1\n",
            "embarked         2\n",
            "title            0\n",
            "deck             0\n",
            "family_size      0\n",
            "dtype: int64\n",
            "\n",
            "\n",
            "Train dataset missing values.\n"
          ],
          "name": "stdout"
        },
        {
          "output_type": "execute_result",
          "data": {
            "text/plain": [
              "survived         0\n",
              "pclass           0\n",
              "sex              0\n",
              "age            177\n",
              "fare             0\n",
              "embarked         2\n",
              "title            0\n",
              "deck             0\n",
              "family_size      0\n",
              "dtype: int64"
            ]
          },
          "metadata": {
            "tags": []
          },
          "execution_count": 22
        }
      ]
    },
    {
      "cell_type": "markdown",
      "metadata": {
        "id": "GlBfaRhNZTwp",
        "colab_type": "text"
      },
      "source": [
        "The Survived column missing values was expected since the test data did not have the survived column. The fare column and embarked missing values will be dropped and the age column missing values will be filled with the mean age."
      ]
    },
    {
      "cell_type": "code",
      "metadata": {
        "id": "0jwaDMk-jkt6",
        "colab_type": "code",
        "colab": {}
      },
      "source": [
        "#Filling the missing ages with the mean in the combined column and in the train data\n",
        "df['age'].fillna(df['age'].mean(),inplace=True)\n",
        "train['age'].fillna(df['age'].mean(),inplace=True)"
      ],
      "execution_count": null,
      "outputs": []
    },
    {
      "cell_type": "code",
      "metadata": {
        "id": "U2exGCNEXvBj",
        "colab_type": "code",
        "colab": {}
      },
      "source": [
        "#Dropping the missing values in the fare and embarked column in both in the train and combined column\n",
        "df = df.dropna(subset = ['fare','embarked'])\n",
        "train = train.dropna(subset = ['embarked','fare'])"
      ],
      "execution_count": null,
      "outputs": []
    },
    {
      "cell_type": "code",
      "metadata": {
        "id": "FZilXkVbYdyh",
        "colab_type": "code",
        "colab": {
          "base_uri": "https://localhost:8080/",
          "height": 187
        },
        "outputId": "d8e6fc67-a54b-42f3-b3c6-6860c2f82572"
      },
      "source": [
        "#Checking if there are any missing values in the train data\n",
        "train.isnull().sum()"
      ],
      "execution_count": null,
      "outputs": [
        {
          "output_type": "execute_result",
          "data": {
            "text/plain": [
              "survived       0\n",
              "pclass         0\n",
              "sex            0\n",
              "age            0\n",
              "fare           0\n",
              "embarked       0\n",
              "title          0\n",
              "deck           0\n",
              "family_size    0\n",
              "dtype: int64"
            ]
          },
          "metadata": {
            "tags": []
          },
          "execution_count": 25
        }
      ]
    },
    {
      "cell_type": "code",
      "metadata": {
        "id": "ICrl-1pcj4a9",
        "colab_type": "code",
        "colab": {
          "base_uri": "https://localhost:8080/",
          "height": 187
        },
        "outputId": "49269a60-e748-4459-e451-2d516e4ddfa3"
      },
      "source": [
        "#Checking the missing values in the combined column\n",
        "df.isnull().sum()"
      ],
      "execution_count": null,
      "outputs": [
        {
          "output_type": "execute_result",
          "data": {
            "text/plain": [
              "survived       417\n",
              "pclass           0\n",
              "sex              0\n",
              "age              0\n",
              "fare             0\n",
              "embarked         0\n",
              "title            0\n",
              "deck             0\n",
              "family_size      0\n",
              "dtype: int64"
            ]
          },
          "metadata": {
            "tags": []
          },
          "execution_count": 26
        }
      ]
    },
    {
      "cell_type": "code",
      "metadata": {
        "id": "Ng6oX0KNw7vg",
        "colab_type": "code",
        "colab": {
          "base_uri": "https://localhost:8080/",
          "height": 634
        },
        "outputId": "42c66aa5-aa81-42ea-dc9d-b9400f8e6355"
      },
      "source": [
        "#Checking for outliers in the continuous columns\n",
        "import matplotlib.pyplot as plt\n",
        "import seaborn as sns\n",
        "#Defining the columns to check for outliers.\n",
        "cols = ['age','fare']\n",
        "#Defining the colors to be used in the boxplots\n",
        "colors = ['red','black']\n",
        "#Used a for loop to plot boxplots for each of the selected columns.\n",
        "fig, axes = plt.subplots(nrows=1,ncols=2,figsize=(15,10))\n",
        "plt.suptitle('Checking for outliers',fontsize=15,y=0.92,color='white')\n",
        "for ax,data,column,color in zip(axes.flatten(),df,cols,colors):\n",
        "  sns.boxplot(df[column], ax=ax, color=color)\n",
        "  ax.set_facecolor('white')\n"
      ],
      "execution_count": null,
      "outputs": [
        {
          "output_type": "display_data",
          "data": {
            "image/png": "[encoded data removed]",
            "text/plain": [
              "<Figure size 1080x720 with 2 Axes>"
            ]
          },
          "metadata": {
            "tags": [],
            "needs_background": "light"
          }
        }
      ]
    },
    {
      "cell_type": "markdown",
      "metadata": {
        "id": "v4nfxB63l6Tu",
        "colab_type": "text"
      },
      "source": [
        "There are a number of outliers in the age and fare columns but I'll not drop them in my analysis since I really want to find out the full circumstances and the extreme factors that might have caused the death of an individual."
      ]
    },
    {
      "cell_type": "markdown",
      "metadata": {
        "id": "ODGuP1zrJL12",
        "colab_type": "text"
      },
      "source": [
        "# Data Exploration"
      ]
    },
    {
      "cell_type": "code",
      "metadata": {
        "id": "H4BdnpowJCms",
        "colab_type": "code",
        "colab": {
          "base_uri": "https://localhost:8080/",
          "height": 285
        },
        "outputId": "8979b664-128c-4905-8245-b86449208af9"
      },
      "source": [
        "#Visualizing the number of people who survived and died\n",
        "import seaborn as sns\n",
        "sns.set(style=\"darkgrid\")\n",
        "ax = sns.countplot(x=\"survived\", data=df)"
      ],
      "execution_count": null,
      "outputs": [
        {
          "output_type": "display_data",
          "data": {
            "image/png": "[encoded data removed]",
            "text/plain": [
              "<Figure size 432x288 with 1 Axes>"
            ]
          },
          "metadata": {
            "tags": []
          }
        }
      ]
    },
    {
      "cell_type": "markdown",
      "metadata": {
        "id": "yfjPxgUCucty",
        "colab_type": "text"
      },
      "source": [
        "The number of people who survived are around 550 passengers and the ones who survived are around 340. This shows the data is a bit imbalanced."
      ]
    },
    {
      "cell_type": "code",
      "metadata": {
        "id": "7DNCyqEpJmuk",
        "colab_type": "code",
        "colab": {
          "base_uri": "https://localhost:8080/",
          "height": 301
        },
        "outputId": "49d6e88b-ad4a-45e5-f5ab-82344331a6bf"
      },
      "source": [
        "#Visualizing the mean age of the people who survived based one gender.\n",
        "df_1 = df.groupby('survived').mean()\n",
        "df_1 = df_1.reset_index(inplace=True)\n",
        "\n",
        "sns.barplot(x=df['sex'], y=df['age'], data=df_1)\n",
        "plt.xlabel('Sex')\n",
        "plt.ylabel('Age')\n",
        "plt.title('Gender on Survival')\n",
        "plt.show()"
      ],
      "execution_count": null,
      "outputs": [
        {
          "output_type": "display_data",
          "data": {
            "image/png": "[encoded data removed]",
            "text/plain": [
              "<Figure size 432x288 with 1 Axes>"
            ]
          },
          "metadata": {
            "tags": []
          }
        }
      ]
    },
    {
      "cell_type": "markdown",
      "metadata": {
        "id": "djMvuSLPvnTE",
        "colab_type": "text"
      },
      "source": [
        "The mean age of the males who survived was around 30 and the mean age of the females who survived was around 28."
      ]
    },
    {
      "cell_type": "code",
      "metadata": {
        "id": "aAOicHBnLMy6",
        "colab_type": "code",
        "colab": {}
      },
      "source": [
        "#Changing the datatype of the pclass to category so that we can work with it in visualizing \n",
        "df['pclass'] = df['pclass'].astype('category')\n",
        "#Defining the categorical columns in our dataset\n",
        "categorical_columns = df[['pclass','sex','embarked']]"
      ],
      "execution_count": null,
      "outputs": []
    },
    {
      "cell_type": "code",
      "metadata": {
        "id": "QuxTohTqJxjB",
        "colab_type": "code",
        "colab": {
          "base_uri": "https://localhost:8080/",
          "height": 547
        },
        "outputId": "d4aac18c-e0d0-46d7-fb11-f1093b465091"
      },
      "source": [
        "#Finding out the survival rate among the categorical columns\n",
        "# Setting the grid style of plots to dark\n",
        "sns.set_style('darkgrid')    \n",
        "# Ceating four subplots, in two rows and two columns                                         \n",
        "fig, axes = plt.subplots(nrows = 2, ncols = 2, figsize = (10, 7))    \n",
        "fig.subplots_adjust(hspace=0.5)\n",
        "fig.suptitle('Bar Charts for Categorical Features', y = 1.05, color = 'magenta', fontsize = 15)\n",
        "\n",
        "# Iterating through the subplots\n",
        "for ax, data, name in zip(axes.flatten(), df, categorical_columns):  \n",
        "   # Creating a barchart in each subplot \n",
        "  sns.barplot(df[name], df.survived, ax = ax)                   \n",
        " # Fitting the subplots to avoid overlapping  \n",
        "plt.tight_layout()  "
      ],
      "execution_count": null,
      "outputs": [
        {
          "output_type": "display_data",
          "data": {
            "image/png": "[encoded data removed]",
            "text/plain": [
              "<Figure size 720x504 with 4 Axes>"
            ]
          },
          "metadata": {
            "tags": []
          }
        }
      ]
    },
    {
      "cell_type": "markdown",
      "metadata": {
        "id": "t9Etv2bBxJ3p",
        "colab_type": "text"
      },
      "source": [
        "Key takeways from the above visualization :\n",
        "\n",
        "\n",
        "*   The first class had the highest rate of survival compared to the rest.\n",
        "*   Females survived more than males. It was the law of the sea then that women are children should be saved first. This might have caused this.\n",
        "*   People from Cherbough had the highest rate of survival followed by Queenstown then Southampton.\n",
        "\n"
      ]
    },
    {
      "cell_type": "code",
      "metadata": {
        "id": "IXedkspoLEcM",
        "colab_type": "code",
        "colab": {
          "base_uri": "https://localhost:8080/",
          "height": 301
        },
        "outputId": "0730a1a2-c6b2-480b-c6a9-a9e07de0ee67"
      },
      "source": [
        "#Visualizing the number of passengers per passenger class. \n",
        "df_2 = df.groupby('pclass').count()\n",
        "df_2 = df_2.reset_index(inplace=True)\n",
        "\n",
        "sns.barplot(x=df['passengerid'], y=df['pclass'], data=df_2)\n",
        "plt.xlabel('Number of Passengers')\n",
        "plt.ylabel('Passenger Class')\n",
        "plt.title('Passenger number per Passenger Class')\n",
        "plt.show()"
      ],
      "execution_count": null,
      "outputs": [
        {
          "output_type": "display_data",
          "data": {
            "image/png": "[encoded data removed]",
            "text/plain": [
              "<Figure size 432x288 with 1 Axes>"
            ]
          },
          "metadata": {
            "tags": []
          }
        }
      ]
    },
    {
      "cell_type": "markdown",
      "metadata": {
        "id": "uhIwX-GbyEpL",
        "colab_type": "text"
      },
      "source": [
        "The classes had almost the same number of passenegers. The 2nd class had the most number of passengers followed by the first class, then the third class."
      ]
    },
    {
      "cell_type": "code",
      "metadata": {
        "id": "ns4rw3HbYXEf",
        "colab_type": "code",
        "colab": {
          "base_uri": "https://localhost:8080/",
          "height": 295
        },
        "outputId": "5cd5e4dc-6317-4e78-94f1-c3342aa3f6cf"
      },
      "source": [
        "#Visualizing Titles and their survival rate\n",
        "df_7 = df.groupby('Title').count()\n",
        "df_7 = df_7.reset_index(inplace=True)\n",
        "\n",
        "sns.barplot(x=df['survived'], y=df['Title'], data=df_7)\n",
        "plt.xlabel('Survival Rate')\n",
        "plt.ylabel('Titles')\n",
        "plt.title('Passenger number per Passenger Class')\n",
        "plt.show()"
      ],
      "execution_count": null,
      "outputs": [
        {
          "output_type": "display_data",
          "data": {
            "image/png": "[encoded data removed]",
            "text/plain": [
              "<Figure size 432x288 with 1 Axes>"
            ]
          },
          "metadata": {
            "tags": [],
            "needs_background": "light"
          }
        }
      ]
    },
    {
      "cell_type": "markdown",
      "metadata": {
        "id": "LYjItGE-yfHa",
        "colab_type": "text"
      },
      "source": [
        "It is observed that the Countess, Mille, Sir, Lady, Ms, Mme all survived the drown of the Titanic. This were British Royalties in early times thus might have been rescued faster than the rest."
      ]
    },
    {
      "cell_type": "code",
      "metadata": {
        "id": "B4x0SoY5PjLA",
        "colab_type": "code",
        "colab": {
          "base_uri": "https://localhost:8080/",
          "height": 301
        },
        "outputId": "57d55e7f-4f30-49ea-f92a-51261f20f9e4"
      },
      "source": [
        "#Visualizing the fare amount per embarked area.\n",
        "df_5 = df.groupby('embarked').sum()\n",
        "df_5 = df_5.reset_index(inplace=True)\n",
        "\n",
        "sns.barplot(x=df['embarked'], y=df['fare'], data=df_5)\n",
        "plt.xlabel('Embarked')\n",
        "plt.ylabel('Fare Amount')\n",
        "plt.title('Fare amount in an embarked area')\n",
        "plt.show()"
      ],
      "execution_count": null,
      "outputs": [
        {
          "output_type": "display_data",
          "data": {
            "image/png": "[encoded data removed]",
            "text/plain": [
              "<Figure size 432x288 with 1 Axes>"
            ]
          },
          "metadata": {
            "tags": []
          }
        }
      ]
    },
    {
      "cell_type": "markdown",
      "metadata": {
        "id": "X1_QNzrGzX02",
        "colab_type": "text"
      },
      "source": [
        "It is observed that Cherbough had the passengers paying the most amount followed by Southampton then Queestown."
      ]
    },
    {
      "cell_type": "code",
      "metadata": {
        "id": "dPKDny1iST6c",
        "colab_type": "code",
        "colab": {
          "base_uri": "https://localhost:8080/",
          "height": 301
        },
        "outputId": "af87ed99-e9f1-4fe8-d7da-068ae7304712"
      },
      "source": [
        "#Visualizing the family size per embarked area.\n",
        "df_6 = df.groupby('embarked').mean()\n",
        "df_6 = df_6.reset_index(inplace=True)\n",
        "\n",
        "sns.barplot(x=df['family_size'], y=df['embarked'], data=df_6)\n",
        "plt.xlabel('Family size rate')\n",
        "plt.ylabel('Embarked')\n",
        "plt.title('Family size in an embarked area')\n",
        "plt.show()"
      ],
      "execution_count": null,
      "outputs": [
        {
          "output_type": "display_data",
          "data": {
            "image/png": "[encoded data removed]",
            "text/plain": [
              "<Figure size 432x288 with 1 Axes>"
            ]
          },
          "metadata": {
            "tags": []
          }
        }
      ]
    },
    {
      "cell_type": "markdown",
      "metadata": {
        "id": "aNZJ_olgzsKY",
        "colab_type": "text"
      },
      "source": [
        "It is seen that Southampton had the biggest families, while Queesntown had the lowest number of people in a family."
      ]
    },
    {
      "cell_type": "code",
      "metadata": {
        "id": "3I6XNNELTseg",
        "colab_type": "code",
        "colab": {}
      },
      "source": [
        "df['family_size'] = df['family_size'].astype('category')\n",
        "df['survived'] = df['survived'].astype('float')"
      ],
      "execution_count": null,
      "outputs": []
    },
    {
      "cell_type": "code",
      "metadata": {
        "id": "QYA2oKGISdW7",
        "colab_type": "code",
        "colab": {
          "base_uri": "https://localhost:8080/",
          "height": 301
        },
        "outputId": "85bd01db-4e47-4ae6-9df6-982a7e765732"
      },
      "source": [
        "#Visualizing survival rate per family size\n",
        "df_6 = df.groupby('survived').count()\n",
        "df_6 = df_6.reset_index(inplace=True)\n",
        "\n",
        "sns.barplot(x=df['family_size'], y=df['survived'], data=df_6)\n",
        "plt.xlabel('Family size')\n",
        "plt.ylabel('Survival rate')\n",
        "plt.title('Family Size survival rate')\n",
        "plt.show()"
      ],
      "execution_count": null,
      "outputs": [
        {
          "output_type": "display_data",
          "data": {
            "image/png": "[encoded data removed]",
            "text/plain": [
              "<Figure size 432x288 with 1 Axes>"
            ]
          },
          "metadata": {
            "tags": []
          }
        }
      ]
    },
    {
      "cell_type": "markdown",
      "metadata": {
        "id": "s8fDvhQm0JlY",
        "colab_type": "text"
      },
      "source": [
        "It is seen that families with 4 persons had the highest survival rate. The families with 6 person had the lowest survival rate. This are probably the ones who decided to have a honorable death together. Families with 2 or three person survived better as well."
      ]
    },
    {
      "cell_type": "code",
      "metadata": {
        "id": "TBGHIR2m2foX",
        "colab_type": "code",
        "colab": {
          "base_uri": "https://localhost:8080/",
          "height": 301
        },
        "outputId": "79a36122-195f-493b-ef9c-8bd135920e2e"
      },
      "source": [
        "#Visualzing the survival rate in the deck area in the ship\n",
        "df_8 = df.groupby('survived').count()\n",
        "df_8 = df_8.reset_index(inplace=True)\n",
        "\n",
        "sns.barplot(x=df['deck'], y=df['survived'], data=df_8)\n",
        "plt.xlabel('Deck')\n",
        "plt.ylabel('Survival rate')\n",
        "plt.title('Deck Area Survival Rate')\n",
        "plt.show()"
      ],
      "execution_count": null,
      "outputs": [
        {
          "output_type": "display_data",
          "data": {
            "image/png": "[encoded data removed]",
            "text/plain": [
              "<Figure size 432x288 with 1 Axes>"
            ]
          },
          "metadata": {
            "tags": []
          }
        }
      ]
    },
    {
      "cell_type": "markdown",
      "metadata": {
        "id": "B-AOV3L04gti",
        "colab_type": "text"
      },
      "source": [
        "Key take aways for the above visualization: \n",
        "\n",
        "\n",
        "*   I will be ignoring the zeros since i used to fill out the missing values.\n",
        "*   Deck E, Deck D and Deck B had the highest survival rates.\n",
        "*   The individuals in deck T had no survival at all.\n",
        "\n",
        "This shows the cabin column had important information that can be used in finding out the survival of a person in the Titanic drown."
      ]
    },
    {
      "cell_type": "code",
      "metadata": {
        "id": "Bmo90K9nTpP6",
        "colab_type": "code",
        "colab": {
          "base_uri": "https://localhost:8080/",
          "height": 502
        },
        "outputId": "b6092ef2-7701-4f9b-f881-d022c0a582c9"
      },
      "source": [
        "#Visualzing survival rate per embarked area.\n",
        "plt.figure(figsize=(8,8))\n",
        "ax = sns.countplot(x='embarked',data=df,hue=\"survived\")\n",
        "bars = ax.patches\n",
        "half = int(len(bars)/2)\n",
        "left_bars = bars[:half]\n",
        "right_bars = bars[half:]\n",
        "#Using a for loop to visualize the percentages for the right and left bar\n",
        "for left, right in zip(left_bars, right_bars):\n",
        "    height_l = left.get_height()\n",
        "    height_r = right.get_height()\n",
        "    total = height_l + height_r\n",
        "\n",
        "    ax.text(left.get_x() + left.get_width()/2., height_l + 10, '{0:.0%}'.format(height_l/total), ha=\"center\")\n",
        "    ax.text(right.get_x() + right.get_width()/2., height_r + 10, '{0:.0%}'.format(height_r/total), ha=\"center\")"
      ],
      "execution_count": null,
      "outputs": [
        {
          "output_type": "display_data",
          "data": {
            "image/png": "[encoded data removed]",
            "text/plain": [
              "<Figure size 576x576 with 1 Axes>"
            ]
          },
          "metadata": {
            "tags": []
          }
        }
      ]
    },
    {
      "cell_type": "markdown",
      "metadata": {
        "id": "nBWcxXDU1SUn",
        "colab_type": "text"
      },
      "source": [
        "Key take ways:\n",
        "\n",
        "\n",
        "*   67% of passengers that embarked in Southampton died in the titanic drown while 33% survived\n",
        "*   55% of passenegers that emabrked in Cherbough survived while 45% died in the drown.\n",
        "*   61% of passenegrs that aboarded the Titanic in Queenstown died in the drown while 39% died in the drown.\n",
        "\n",
        "It's only in Cherbough where the passenegers who aboarded survived more than the ones who died. Probably because Cherbough had the most royalties or women.\n"
      ]
    },
    {
      "cell_type": "markdown",
      "metadata": {
        "id": "26sjWPhG9mww",
        "colab_type": "text"
      },
      "source": [
        "Results from the Exploratory Data Analysis\n",
        "\n",
        "*   Our dataset was a bit imbalanced since it had more death cases.\n",
        "*   The mean age of females and males who survived is same.\n",
        "*   A person in the first class had a higher chance of survival.\n",
        "*   A female had a higher chance of survival than a male.\n",
        "*   A person who boarded the Titanic in Cherbough had a higher chance of survival.\n",
        "*   A person bearing the titles; Countess, Mille, Sir, Lady, Ms and Mme had a higher chance of survival.\n",
        "*  Persons in Cherbough were generally wealth since they are the ones who paid the most fare.\n",
        "*  A person in Deck E, Deck D and Deck B had a higher chance of survival. Individuals in Deck T did not survive.\n",
        "\n"
      ]
    },
    {
      "cell_type": "markdown",
      "metadata": {
        "id": "TNJTkxS6i2tf",
        "colab_type": "text"
      },
      "source": [
        "# Baseline Model"
      ]
    },
    {
      "cell_type": "markdown",
      "metadata": {
        "id": "pfFGWxvWC_vD",
        "colab_type": "text"
      },
      "source": [
        "I'll be creating the baseline model to use it as reference. I'll be using the Logistic Regression since we working on a classification problem."
      ]
    },
    {
      "cell_type": "code",
      "metadata": {
        "id": "nYKsytP_i5sq",
        "colab_type": "code",
        "colab": {
          "base_uri": "https://localhost:8080/",
          "height": 204
        },
        "outputId": "284ea48f-379a-40f3-a90a-508a32659647"
      },
      "source": [
        "#Defining the predictor variables and target variables in our dataset.\n",
        "X = train.drop(['survived'],axis=1)\n",
        "y = train['survived']\n",
        "#One hot encoding our data for the categorical variables\n",
        "X = pd.get_dummies(X, drop_first=True)\n",
        "#Splitting our dataset\n",
        "from sklearn.model_selection import train_test_split\n",
        "\n",
        "X_train,X_test,y_train,y_test = train_test_split(X,y,random_state=0,test_size=0.2)\n",
        "#Importing the Logistic Regression and the StandardScaler\n",
        "from sklearn.linear_model import LogisticRegression\n",
        "from sklearn.preprocessing import StandardScaler\n",
        "#Scaling the predictor variables\n",
        "scaler = StandardScaler()\n",
        "X_train = scaler.fit_transform(X_train)\n",
        "X_test = scaler.fit_transform(X_test)\n",
        "#Fitting the data in a logistic regression\n",
        "regressor = LogisticRegression()\n",
        "regressor.fit(X_train,y_train)\n",
        "#Predicting classification using the test set\n",
        "y_predict = regressor.predict(X_test)\n",
        "#Getting the metrics for assessing our baseline model\n",
        "from sklearn.metrics import classification_report,confusion_matrix\n",
        "\n",
        "print(confusion_matrix(y_test,y_predict))\n",
        "print(classification_report(y_test,y_predict))"
      ],
      "execution_count": null,
      "outputs": [
        {
          "output_type": "stream",
          "text": [
            "[[86 19]\n",
            " [25 48]]\n",
            "              precision    recall  f1-score   support\n",
            "\n",
            "           0       0.77      0.82      0.80       105\n",
            "           1       0.72      0.66      0.69        73\n",
            "\n",
            "    accuracy                           0.75       178\n",
            "   macro avg       0.75      0.74      0.74       178\n",
            "weighted avg       0.75      0.75      0.75       178\n",
            "\n"
          ],
          "name": "stdout"
        }
      ]
    },
    {
      "cell_type": "markdown",
      "metadata": {
        "id": "pZSOquQ4FxXd",
        "colab_type": "text"
      },
      "source": [
        "The f1 score of the baseline model is at 80% meaning that we have a generally low false positives and low false negatives.\n",
        "\n",
        "The accuracy of the model is at 75% meaning that the model has not hit our metric for success."
      ]
    },
    {
      "cell_type": "markdown",
      "metadata": {
        "id": "bv_bFW-fk9gb",
        "colab_type": "text"
      },
      "source": [
        "# Multivariate Analysis"
      ]
    },
    {
      "cell_type": "markdown",
      "metadata": {
        "id": "8g2lHvS6GNu3",
        "colab_type": "text"
      },
      "source": [
        "This is normally based on the principles of multivariate statistics, which involves observation and analysis of more than one statistical outcomes variables at a time. Multi-variate analysis enables:\n",
        "\n",
        "*  The exploration of data structures and patterns.\n",
        "*  Probability computations of multi-dimensional regions.\n",
        "*  The study and measurement of relationships.\n",
        "*  Normal and general multivariate models and distribution theory. \n",
        "\n",
        "\n",
        "There are three multivariate techniques namely : Principal Component Analysis, Factor Analysis and Linear Discriminant Analysis.\n",
        "Linear Discriminant Analysis is a linear transformation technique while the Principal Component Analysis is an unsupervised linear transformation technique since it ignores class labels.\n",
        "\n",
        "We are doing the Supervised Learning Algorithm therefore I will perform the Linear Discriminant Analysis."
      ]
    },
    {
      "cell_type": "code",
      "metadata": {
        "id": "k_CmJKuAkPJn",
        "colab_type": "code",
        "colab": {
          "base_uri": "https://localhost:8080/",
          "height": 1000
        },
        "outputId": "4008695f-112f-4c74-d8ca-5e15ac0860a4"
      },
      "source": [
        "# applying Linear Discriminant Analysis\n",
        "# importing LDA\n",
        "from sklearn.discriminant_analysis import LinearDiscriminantAnalysis as LDA\n",
        "\n",
        "lda = LDA(n_components = 1)\n",
        "X_train = lda.fit_transform(X_train, y_train)\n",
        "X_test = lda.transform(X_test)\n",
        "\n",
        "# printing factors that affect the price of a house in order of how much weight each of the factors carry \n",
        "factors = pd.DataFrame (index = X.columns.values, data = lda.coef_[0].T)\n",
        "# pd.options.display.float_format = '{:.8f}'.float_format\n",
        "factors.sort_values(0, ascending = False)"
      ],
      "execution_count": null,
      "outputs": [
        {
          "output_type": "execute_result",
          "data": {
            "text/html": [
              "<div>\n",
              "<style scoped>\n",
              "    .dataframe tbody tr th:only-of-type {\n",
              "        vertical-align: middle;\n",
              "    }\n",
              "\n",
              "    .dataframe tbody tr th {\n",
              "        vertical-align: top;\n",
              "    }\n",
              "\n",
              "    .dataframe thead th {\n",
              "        text-align: right;\n",
              "    }\n",
              "</style>\n",
              "<table border=\"1\" class=\"dataframe\">\n",
              "  <thead>\n",
              "    <tr style=\"text-align: right;\">\n",
              "      <th></th>\n",
              "      <th>0</th>\n",
              "    </tr>\n",
              "  </thead>\n",
              "  <tbody>\n",
              "    <tr>\n",
              "      <th>title_Master</th>\n",
              "      <td>9.791736e-01</td>\n",
              "    </tr>\n",
              "    <tr>\n",
              "      <th>fare</th>\n",
              "      <td>3.282511e-01</td>\n",
              "    </tr>\n",
              "    <tr>\n",
              "      <th>deck_D</th>\n",
              "      <td>2.487148e-01</td>\n",
              "    </tr>\n",
              "    <tr>\n",
              "      <th>title_Sir</th>\n",
              "      <td>2.334805e-01</td>\n",
              "    </tr>\n",
              "    <tr>\n",
              "      <th>deck_E</th>\n",
              "      <td>2.176159e-01</td>\n",
              "    </tr>\n",
              "    <tr>\n",
              "      <th>deck_F</th>\n",
              "      <td>1.375845e-01</td>\n",
              "    </tr>\n",
              "    <tr>\n",
              "      <th>title_Major</th>\n",
              "      <td>1.304600e-01</td>\n",
              "    </tr>\n",
              "    <tr>\n",
              "      <th>embarked_Queenstown</th>\n",
              "      <td>1.291432e-01</td>\n",
              "    </tr>\n",
              "    <tr>\n",
              "      <th>title_Mrs</th>\n",
              "      <td>1.150032e-01</td>\n",
              "    </tr>\n",
              "    <tr>\n",
              "      <th>title_Ms</th>\n",
              "      <td>5.565822e-02</td>\n",
              "    </tr>\n",
              "    <tr>\n",
              "      <th>title_Lady</th>\n",
              "      <td>3.333152e-02</td>\n",
              "    </tr>\n",
              "    <tr>\n",
              "      <th>deck_G</th>\n",
              "      <td>2.894984e-02</td>\n",
              "    </tr>\n",
              "    <tr>\n",
              "      <th>title_Mr</th>\n",
              "      <td>2.743375e-02</td>\n",
              "    </tr>\n",
              "    <tr>\n",
              "      <th>title_the Countess</th>\n",
              "      <td>1.453285e-02</td>\n",
              "    </tr>\n",
              "    <tr>\n",
              "      <th>deck_A</th>\n",
              "      <td>1.338612e-02</td>\n",
              "    </tr>\n",
              "    <tr>\n",
              "      <th>title_Don</th>\n",
              "      <td>6.562344e-16</td>\n",
              "    </tr>\n",
              "    <tr>\n",
              "      <th>deck_T</th>\n",
              "      <td>0.000000e+00</td>\n",
              "    </tr>\n",
              "    <tr>\n",
              "      <th>title_Jonkheer</th>\n",
              "      <td>-1.518281e-17</td>\n",
              "    </tr>\n",
              "    <tr>\n",
              "      <th>title_Dr</th>\n",
              "      <td>-1.381627e-02</td>\n",
              "    </tr>\n",
              "    <tr>\n",
              "      <th>title_Mme</th>\n",
              "      <td>-1.753963e-02</td>\n",
              "    </tr>\n",
              "    <tr>\n",
              "      <th>title_Mlle</th>\n",
              "      <td>-2.573916e-02</td>\n",
              "    </tr>\n",
              "    <tr>\n",
              "      <th>deck_C</th>\n",
              "      <td>-2.947247e-02</td>\n",
              "    </tr>\n",
              "    <tr>\n",
              "      <th>title_Col</th>\n",
              "      <td>-5.654604e-02</td>\n",
              "    </tr>\n",
              "    <tr>\n",
              "      <th>deck_B</th>\n",
              "      <td>-5.779346e-02</td>\n",
              "    </tr>\n",
              "    <tr>\n",
              "      <th>title_Rev</th>\n",
              "      <td>-6.161183e-02</td>\n",
              "    </tr>\n",
              "    <tr>\n",
              "      <th>title_Miss</th>\n",
              "      <td>-2.461291e-01</td>\n",
              "    </tr>\n",
              "    <tr>\n",
              "      <th>embarked_Southampton</th>\n",
              "      <td>-2.646279e-01</td>\n",
              "    </tr>\n",
              "    <tr>\n",
              "      <th>age</th>\n",
              "      <td>-5.478533e-01</td>\n",
              "    </tr>\n",
              "    <tr>\n",
              "      <th>family_size</th>\n",
              "      <td>-8.827818e-01</td>\n",
              "    </tr>\n",
              "    <tr>\n",
              "      <th>pclass</th>\n",
              "      <td>-9.280444e-01</td>\n",
              "    </tr>\n",
              "    <tr>\n",
              "      <th>sex_male</th>\n",
              "      <td>-2.580138e+00</td>\n",
              "    </tr>\n",
              "  </tbody>\n",
              "</table>\n",
              "</div>"
            ],
            "text/plain": [
              "                                 0\n",
              "title_Master          9.791736e-01\n",
              "fare                  3.282511e-01\n",
              "deck_D                2.487148e-01\n",
              "title_Sir             2.334805e-01\n",
              "deck_E                2.176159e-01\n",
              "deck_F                1.375845e-01\n",
              "title_Major           1.304600e-01\n",
              "embarked_Queenstown   1.291432e-01\n",
              "title_Mrs             1.150032e-01\n",
              "title_Ms              5.565822e-02\n",
              "title_Lady            3.333152e-02\n",
              "deck_G                2.894984e-02\n",
              "title_Mr              2.743375e-02\n",
              "title_the Countess    1.453285e-02\n",
              "deck_A                1.338612e-02\n",
              "title_Don             6.562344e-16\n",
              "deck_T                0.000000e+00\n",
              "title_Jonkheer       -1.518281e-17\n",
              "title_Dr             -1.381627e-02\n",
              "title_Mme            -1.753963e-02\n",
              "title_Mlle           -2.573916e-02\n",
              "deck_C               -2.947247e-02\n",
              "title_Col            -5.654604e-02\n",
              "deck_B               -5.779346e-02\n",
              "title_Rev            -6.161183e-02\n",
              "title_Miss           -2.461291e-01\n",
              "embarked_Southampton -2.646279e-01\n",
              "age                  -5.478533e-01\n",
              "family_size          -8.827818e-01\n",
              "pclass               -9.280444e-01\n",
              "sex_male             -2.580138e+00"
            ]
          },
          "metadata": {
            "tags": []
          },
          "execution_count": 23
        }
      ]
    },
    {
      "cell_type": "markdown",
      "metadata": {
        "id": "4Afx6_yAG-0m",
        "colab_type": "text"
      },
      "source": [
        "According to the Linear Discriminant Analysis, the following factors or circumstances determined one's survival:\n",
        "\n",
        "\n",
        "*   the Title Master\n",
        "*   Fare amount\n",
        "*   The Deck D\n",
        "*   The title Sir\n",
        "*   The Deck E\n",
        "*   The Deck F\n",
        "*   The title Mayor\n",
        "*   The port Queenstown and\n",
        "*   The title Mrs\n",
        "\n",
        "The factors an individual would have had and caused their death is the:\n",
        "\n",
        "*  The gender of the passenger.\n",
        "*  The passenger class.\n",
        "*  The family size.\n",
        "*  The age of the passenger.\n",
        "*  Whether the passenger embarked in southampton.\n",
        "*  The Title Miss.\n",
        "*  The Title Rev.\n",
        "*  Deck B"
      ]
    },
    {
      "cell_type": "markdown",
      "metadata": {
        "id": "85dd5DSjH-Dk",
        "colab_type": "text"
      },
      "source": [
        "# Checking for Multi-Collinearity"
      ]
    },
    {
      "cell_type": "markdown",
      "metadata": {
        "id": "JXMT2_uUH4hP",
        "colab_type": "text"
      },
      "source": [
        "Checking for Multi-Collinearity\n",
        "The key goal of regression analysis is to isolate the relationship between each independent variables and the independent variable. The coefficient estimates can swing wildly based on which other independent variables are in the model. Multi-collinearity reduces the precision of the estimate co-efficients which weakens the statistical power of the regression model and that is why it is important for us to remove the multicollinear variables to be able to build an efficient model."
      ]
    },
    {
      "cell_type": "code",
      "metadata": {
        "id": "Rox4BcdRpNrX",
        "colab_type": "code",
        "colab": {
          "base_uri": "https://localhost:8080/",
          "height": 204
        },
        "outputId": "10fee9f3-a26d-4bab-9607-68334e6e26ab"
      },
      "source": [
        "#Creating a dataframe for the correlations in our dataset.\n",
        "correlations = train.corr()\n",
        "correlations"
      ],
      "execution_count": null,
      "outputs": [
        {
          "output_type": "execute_result",
          "data": {
            "text/html": [
              "<div>\n",
              "<style scoped>\n",
              "    .dataframe tbody tr th:only-of-type {\n",
              "        vertical-align: middle;\n",
              "    }\n",
              "\n",
              "    .dataframe tbody tr th {\n",
              "        vertical-align: top;\n",
              "    }\n",
              "\n",
              "    .dataframe thead th {\n",
              "        text-align: right;\n",
              "    }\n",
              "</style>\n",
              "<table border=\"1\" class=\"dataframe\">\n",
              "  <thead>\n",
              "    <tr style=\"text-align: right;\">\n",
              "      <th></th>\n",
              "      <th>survived</th>\n",
              "      <th>pclass</th>\n",
              "      <th>age</th>\n",
              "      <th>fare</th>\n",
              "      <th>family_size</th>\n",
              "    </tr>\n",
              "  </thead>\n",
              "  <tbody>\n",
              "    <tr>\n",
              "      <th>survived</th>\n",
              "      <td>1.000000</td>\n",
              "      <td>-0.335549</td>\n",
              "      <td>-0.075030</td>\n",
              "      <td>0.255290</td>\n",
              "      <td>0.018277</td>\n",
              "    </tr>\n",
              "    <tr>\n",
              "      <th>pclass</th>\n",
              "      <td>-0.335549</td>\n",
              "      <td>1.000000</td>\n",
              "      <td>-0.327273</td>\n",
              "      <td>-0.548193</td>\n",
              "      <td>0.064221</td>\n",
              "    </tr>\n",
              "    <tr>\n",
              "      <th>age</th>\n",
              "      <td>-0.075030</td>\n",
              "      <td>-0.327273</td>\n",
              "      <td>1.000000</td>\n",
              "      <td>0.088210</td>\n",
              "      <td>-0.247738</td>\n",
              "    </tr>\n",
              "    <tr>\n",
              "      <th>fare</th>\n",
              "      <td>0.255290</td>\n",
              "      <td>-0.548193</td>\n",
              "      <td>0.088210</td>\n",
              "      <td>1.000000</td>\n",
              "      <td>0.218658</td>\n",
              "    </tr>\n",
              "    <tr>\n",
              "      <th>family_size</th>\n",
              "      <td>0.018277</td>\n",
              "      <td>0.064221</td>\n",
              "      <td>-0.247738</td>\n",
              "      <td>0.218658</td>\n",
              "      <td>1.000000</td>\n",
              "    </tr>\n",
              "  </tbody>\n",
              "</table>\n",
              "</div>"
            ],
            "text/plain": [
              "             survived    pclass       age      fare  family_size\n",
              "survived     1.000000 -0.335549 -0.075030  0.255290     0.018277\n",
              "pclass      -0.335549  1.000000 -0.327273 -0.548193     0.064221\n",
              "age         -0.075030 -0.327273  1.000000  0.088210    -0.247738\n",
              "fare         0.255290 -0.548193  0.088210  1.000000     0.218658\n",
              "family_size  0.018277  0.064221 -0.247738  0.218658     1.000000"
            ]
          },
          "metadata": {
            "tags": []
          },
          "execution_count": 120
        }
      ]
    },
    {
      "cell_type": "code",
      "metadata": {
        "id": "RVZtE57mpRqg",
        "colab_type": "code",
        "colab": {
          "base_uri": "https://localhost:8080/",
          "height": 499
        },
        "outputId": "b1a17ab2-95d9-4f62-cb02-5b989ec2cbb5"
      },
      "source": [
        "#Visualzing the correlations in our dataset\n",
        "plt.figure(figsize = (23, 8))\n",
        "sns.heatmap(correlations, annot = True, center = 0)\n",
        "plt.title('Correlations Viz', fontsize = 15, color = 'red')\n",
        "plt.show()"
      ],
      "execution_count": null,
      "outputs": [
        {
          "output_type": "display_data",
          "data": {
            "image/png": "[encoded data removed]",
            "text/plain": [
              "<Figure size 1656x576 with 2 Axes>"
            ]
          },
          "metadata": {
            "tags": []
          }
        }
      ]
    },
    {
      "cell_type": "markdown",
      "metadata": {
        "id": "AgaFSB3xIJYQ",
        "colab_type": "text"
      },
      "source": [
        "Key take aways:\n",
        "\n",
        "\n",
        "\n",
        "*   As the classes increase that is (1-3) the fare also increases thus having the negative correlation of -0.55. This means there is a relation between fare and pclass.\n",
        "*   There is also a slight correlation between fare and family size of 0.22.\n",
        "*   There is also a slight correlation between fare and one's survival of 0.26.\n",
        "*   There is also a slight correlation of age and pclass. Meaning the aged individuals were better economically thus boarding on the first class.\n",
        "*   There is also a correlation between one's survival and pclass. Meaning th well economic individuals were given priority.\n",
        "\n"
      ]
    },
    {
      "cell_type": "code",
      "metadata": {
        "id": "X67CGj9bpaZa",
        "colab_type": "code",
        "colab": {
          "base_uri": "https://localhost:8080/",
          "height": 504
        },
        "outputId": "868705f5-1a6c-47ff-a6fd-7fbda1fcdaa3"
      },
      "source": [
        "#Visualzing the VIF Score\n",
        "import matplotlib.pyplot as plt\n",
        "import seaborn as sns\n",
        "import numpy as np\n",
        "vif = pd.DataFrame(np.linalg.inv(correlations.values),index=correlations.index,columns=correlations.columns)\n",
        "plt.figure(figsize = (13, 8))\n",
        "sns.heatmap(vif, annot = True, center = 0)\n",
        "plt.title('VIF Viz', fontsize = 15, color = 'red')\n",
        "plt.show()"
      ],
      "execution_count": null,
      "outputs": [
        {
          "output_type": "display_data",
          "data": {
            "image/png": "[encoded data removed]",
            "text/plain": [
              "<Figure size 936x576 with 2 Axes>"
            ]
          },
          "metadata": {
            "tags": []
          }
        }
      ]
    },
    {
      "cell_type": "markdown",
      "metadata": {
        "id": "CDGxCxGHJnoT",
        "colab_type": "text"
      },
      "source": [
        "There is no multi-collinearity in our independent variables."
      ]
    },
    {
      "cell_type": "markdown",
      "metadata": {
        "id": "jHeFmh4mpheJ",
        "colab_type": "text"
      },
      "source": [
        "# KNearest Neighbors"
      ]
    },
    {
      "cell_type": "markdown",
      "metadata": {
        "id": "IYSmMpFniDjq",
        "colab_type": "text"
      },
      "source": [
        "The K Nearest Neighbors commonly known as the k-NN is a type of instance based learning, or lazy learning where the function is only approximated locally and all computation is deferred until function evaluation. \n",
        "\n",
        "The k-NN is a non parametric method that does not make any assumptions of the underlying data distribution. Therefore we need no prior fitting or transformation of the data. But we will standardize our numerical columns for better analysis."
      ]
    },
    {
      "cell_type": "code",
      "metadata": {
        "id": "zg_APWpeVXg9",
        "colab_type": "code",
        "colab": {}
      },
      "source": [
        "#Defining the predictor variables and target column\n",
        "X = train.drop(['survived'],axis=1)\n",
        "y = train['survived']\n",
        "#Importing the standard scaler\n",
        "from sklearn.preprocessing import StandardScaler\n",
        "scaler = StandardScaler()\n",
        "#Standardizing our numerical columns which are the age and fare columns\n",
        "X[['age','fare']] = scaler.fit_transform(X[['age','fare']])\n",
        "#One hot encoding any categorical columns in our dataset\n",
        "X = pd.get_dummies(X, drop_first=True)\n",
        "#Splitting our dataset into the test and train \n",
        "from sklearn.model_selection import train_test_split\n",
        "\n",
        "X_train,X_test,y_train,y_test = train_test_split(X,y,test_size=0.2,random_state=101)"
      ],
      "execution_count": null,
      "outputs": []
    },
    {
      "cell_type": "code",
      "metadata": {
        "id": "HFROU9HPlg6g",
        "colab_type": "code",
        "colab": {
          "base_uri": "https://localhost:8080/",
          "height": 68
        },
        "outputId": "b324d1b9-cd00-4e59-8d63-6baa608c8034"
      },
      "source": [
        "#Fitting our data in the KNeighbors Clasifier\n",
        "from sklearn.neighbors import KNeighborsClassifier \n",
        "#Choosing an odd number 3 to help us classify our data\n",
        "classifier = KNeighborsClassifier(n_neighbors=3)\n",
        "classifier.fit(X_train,y_train)"
      ],
      "execution_count": null,
      "outputs": [
        {
          "output_type": "execute_result",
          "data": {
            "text/plain": [
              "KNeighborsClassifier(algorithm='auto', leaf_size=30, metric='minkowski',\n",
              "                     metric_params=None, n_jobs=None, n_neighbors=3, p=2,\n",
              "                     weights='uniform')"
            ]
          },
          "metadata": {
            "tags": []
          },
          "execution_count": 29
        }
      ]
    },
    {
      "cell_type": "code",
      "metadata": {
        "id": "PDZr1SbiodcQ",
        "colab_type": "code",
        "colab": {
          "base_uri": "https://localhost:8080/",
          "height": 204
        },
        "outputId": "0a3bd75b-df52-413c-eb6d-d8c6bc629d3c"
      },
      "source": [
        "#Predict new values using our test data\n",
        "y_pred = classifier.predict(X_test)\n",
        "#Importing the metrics to be used\n",
        "from sklearn.metrics import classification_report,confusion_matrix\n",
        "#Printing out the various metrics\n",
        "print(confusion_matrix(y_test,y_pred))\n",
        "print(classification_report(y_test,y_pred))"
      ],
      "execution_count": null,
      "outputs": [
        {
          "output_type": "stream",
          "text": [
            "[[92 15]\n",
            " [17 54]]\n",
            "              precision    recall  f1-score   support\n",
            "\n",
            "           0       0.84      0.86      0.85       107\n",
            "           1       0.78      0.76      0.77        71\n",
            "\n",
            "    accuracy                           0.82       178\n",
            "   macro avg       0.81      0.81      0.81       178\n",
            "weighted avg       0.82      0.82      0.82       178\n",
            "\n"
          ],
          "name": "stdout"
        }
      ]
    },
    {
      "cell_type": "markdown",
      "metadata": {
        "id": "swbPa4Y5kSD6",
        "colab_type": "text"
      },
      "source": [
        "The f1 score of Knearest Neighbors rised from 80% to 85%. The accuracy score also rose from 75% to 82%. Our model is perfroming better. I will do hyperparameter tuning an find the optimal parameters for our model."
      ]
    },
    {
      "cell_type": "markdown",
      "metadata": {
        "id": "hfm5nsqNks7e",
        "colab_type": "text"
      },
      "source": [
        "Hyper parameter tuning"
      ]
    },
    {
      "cell_type": "code",
      "metadata": {
        "id": "OCPC45xnxEj1",
        "colab_type": "code",
        "colab": {}
      },
      "source": [
        "#Defining the hyper parameters for the Knearest Neighbors Classifier\n",
        "leaf_size = list(range(1,50))\n",
        "n_neighbors = list(range(1,30))\n",
        "p = [1,2]\n",
        "metric = ['manhattan', 'euclidean', 'minkowski']\n",
        "#Creating a dictionary with the hyperparameters\n",
        "hyperparameters = dict(leaf_size = leaf_size, n_neighbors = n_neighbors, p=p,metric = metric)"
      ],
      "execution_count": null,
      "outputs": []
    },
    {
      "cell_type": "code",
      "metadata": {
        "id": "9tStXrbrlAU1",
        "colab_type": "code",
        "colab": {}
      },
      "source": [
        "#I used GridSearch to look for the best parameters\n",
        "from sklearn.model_selection import GridSearchCV\n",
        "\n",
        "classifier = KNeighborsClassifier()\n",
        "\n",
        "clf = GridSearchCV(classifier, hyperparameters,cv=10)"
      ],
      "execution_count": null,
      "outputs": []
    },
    {
      "cell_type": "code",
      "metadata": {
        "id": "xU_BQ10iw7q_",
        "colab_type": "code",
        "colab": {}
      },
      "source": [
        "#Checking the performance of our model with a single dicriminant component.\n",
        "from sklearn.discriminant_analysis import LinearDiscriminantAnalysis as LDA\n",
        "lda = LDA(n_components=1)\n",
        "X_train = lda.fit_transform(X_train, y_train)\n",
        "X_test = lda.transform(X_test)"
      ],
      "execution_count": null,
      "outputs": []
    },
    {
      "cell_type": "code",
      "metadata": {
        "id": "exB1geQ3lPKr",
        "colab_type": "code",
        "colab": {
          "base_uri": "https://localhost:8080/",
          "height": 306
        },
        "outputId": "4921f253-ee38-4f0c-82ad-6f987f1a1297"
      },
      "source": [
        "#Fitting the train data into our model\n",
        "clf.fit(X_train,y_train)"
      ],
      "execution_count": null,
      "outputs": [
        {
          "output_type": "execute_result",
          "data": {
            "text/plain": [
              "GridSearchCV(cv=10, error_score=nan,\n",
              "             estimator=KNeighborsClassifier(algorithm='auto', leaf_size=30,\n",
              "                                            metric='minkowski',\n",
              "                                            metric_params=None, n_jobs=None,\n",
              "                                            n_neighbors=5, p=2,\n",
              "                                            weights='uniform'),\n",
              "             iid='deprecated', n_jobs=None,\n",
              "             param_grid={'leaf_size': [1, 2, 3, 4, 5, 6, 7, 8, 9, 10, 11, 12,\n",
              "                                       13, 14, 15, 16, 17, 18, 19, 20, 21, 22,\n",
              "                                       23, 24, 25, 26, 27, 28, 29, 30, ...],\n",
              "                         'metric': ['manhattan', 'euclidean', 'minkowski'],\n",
              "                         'n_neighbors': [1, 2, 3, 4, 5, 6, 7, 8, 9, 10, 11, 12,\n",
              "                                         13, 14, 15, 16, 17, 18, 19, 20, 21, 22,\n",
              "                                         23, 24, 25, 26, 27, 28, 29],\n",
              "                         'p': [1, 2]},\n",
              "             pre_dispatch='2*n_jobs', refit=True, return_train_score=False,\n",
              "             scoring=None, verbose=0)"
            ]
          },
          "metadata": {
            "tags": []
          },
          "execution_count": 36
        }
      ]
    },
    {
      "cell_type": "code",
      "metadata": {
        "id": "JkF78JhKmX1Z",
        "colab_type": "code",
        "colab": {
          "base_uri": "https://localhost:8080/",
          "height": 34
        },
        "outputId": "ec3c4a55-cd9b-44da-95c6-2a8802532237"
      },
      "source": [
        "#Printing out the best parameters\n",
        "clf.best_params_"
      ],
      "execution_count": null,
      "outputs": [
        {
          "output_type": "execute_result",
          "data": {
            "text/plain": [
              "{'leaf_size': 1, 'metric': 'manhattan', 'n_neighbors': 29, 'p': 1}"
            ]
          },
          "metadata": {
            "tags": []
          },
          "execution_count": 37
        }
      ]
    },
    {
      "cell_type": "markdown",
      "metadata": {
        "id": "QkTAQj_Iq8KH",
        "colab_type": "text"
      },
      "source": [
        "The optimal leaf size is 1\n",
        "The optimal K nearest neighbors is 10\n",
        "And the optimal p is 1"
      ]
    },
    {
      "cell_type": "code",
      "metadata": {
        "id": "uBuOwoBJnmAR",
        "colab_type": "code",
        "colab": {
          "base_uri": "https://localhost:8080/",
          "height": 68
        },
        "outputId": "d459be9d-881f-4606-8f01-efe9f1f2b486"
      },
      "source": [
        "#Fitting the parameters into our model\n",
        "classifier = KNeighborsClassifier(leaf_size=1,n_neighbors=29,p=1,metric='manhattan')\n",
        "classifier.fit(X_train,y_train)"
      ],
      "execution_count": null,
      "outputs": [
        {
          "output_type": "execute_result",
          "data": {
            "text/plain": [
              "KNeighborsClassifier(algorithm='auto', leaf_size=1, metric='manhattan',\n",
              "                     metric_params=None, n_jobs=None, n_neighbors=29, p=1,\n",
              "                     weights='uniform')"
            ]
          },
          "metadata": {
            "tags": []
          },
          "execution_count": 38
        }
      ]
    },
    {
      "cell_type": "code",
      "metadata": {
        "id": "vblwPev0nveT",
        "colab_type": "code",
        "colab": {
          "base_uri": "https://localhost:8080/",
          "height": 204
        },
        "outputId": "d66243bd-d4ff-426b-f700-8d0604c3974f"
      },
      "source": [
        "#Predicting values using our test set\n",
        "y_predict = classifier.predict(X_test)\n",
        "#Printing out the metrics for assessing the model's perfromance\n",
        "print(confusion_matrix(y_test,y_pred))\n",
        "print(classification_report(y_test,y_pred))"
      ],
      "execution_count": null,
      "outputs": [
        {
          "output_type": "stream",
          "text": [
            "[[92 15]\n",
            " [17 54]]\n",
            "              precision    recall  f1-score   support\n",
            "\n",
            "           0       0.84      0.86      0.85       107\n",
            "           1       0.78      0.76      0.77        71\n",
            "\n",
            "    accuracy                           0.82       178\n",
            "   macro avg       0.81      0.81      0.81       178\n",
            "weighted avg       0.82      0.82      0.82       178\n",
            "\n"
          ],
          "name": "stdout"
        }
      ]
    },
    {
      "cell_type": "markdown",
      "metadata": {
        "id": "t4jwLtTnrTmh",
        "colab_type": "text"
      },
      "source": [
        "The Accuracy and the f1 score for the tuned and untuned models remained the same. Hence we can go with the untuned model."
      ]
    },
    {
      "cell_type": "markdown",
      "metadata": {
        "id": "9OncMHGPrb6d",
        "colab_type": "text"
      },
      "source": [
        "I used a for loop to find the optimal test size for the model."
      ]
    },
    {
      "cell_type": "code",
      "metadata": {
        "id": "totlVFlWn2uv",
        "colab_type": "code",
        "colab": {
          "base_uri": "https://localhost:8080/",
          "height": 102
        },
        "outputId": "ff3d7414-13d4-4c9d-ce46-ddf14b98a52f"
      },
      "source": [
        "#Defining the list of test sizes we will use for the assessment\n",
        "test_size = [0.1, 0.2, 0.3, 0.4, 0.5]\n",
        "#Importing necessary libraries for the assessment\n",
        "from sklearn.model_selection import train_test_split \n",
        "from sklearn import metrics\n",
        "#Uing a for loop to split the dataset fit it with the optimal parameters then assess using the accuracy score.\n",
        "for test in test_size:\n",
        "    X_train, X_test, y_train, y_test = train_test_split(X, y, test_size = test, random_state = 12)\n",
        "    \n",
        "    # fitting to classifier\n",
        "    classifier = KNeighborsClassifier(leaf_size=1,n_neighbors=29,p=1,metric='manhattan')\n",
        "    classifier.fit(X_train, y_train)\n",
        "    \n",
        "    # making predictions\n",
        "    y_pred = classifier.predict(X_test)\n",
        "\n",
        "    # evaluating the algorithm\n",
        "    print(\"Test size {} has accuracy score:\".format(test), metrics.accuracy_score(y_test, y_pred))"
      ],
      "execution_count": null,
      "outputs": [
        {
          "output_type": "stream",
          "text": [
            "Test size 0.1 has accuracy score: 0.8764044943820225\n",
            "Test size 0.2 has accuracy score: 0.8370786516853933\n",
            "Test size 0.3 has accuracy score: 0.8314606741573034\n",
            "Test size 0.4 has accuracy score: 0.8370786516853933\n",
            "Test size 0.5 has accuracy score: 0.8089887640449438\n"
          ],
          "name": "stdout"
        }
      ]
    },
    {
      "cell_type": "markdown",
      "metadata": {
        "id": "-Uxg-U_cr2-c",
        "colab_type": "text"
      },
      "source": [
        "I found that test size of 10% made the best accuracy of 87% surpassing our metric of success. "
      ]
    },
    {
      "cell_type": "markdown",
      "metadata": {
        "id": "SAYyDaj8shcF",
        "colab_type": "text"
      },
      "source": [
        "# Challenging the Solution."
      ]
    },
    {
      "cell_type": "markdown",
      "metadata": {
        "id": "2Kfbkz9zslmQ",
        "colab_type": "text"
      },
      "source": [
        "I found that the test size of 10% made the best accuracy of 88% therefore this can be improved during the next modelling.\n",
        "\n",
        "The missing data in our dataset especially in the cabin dataset made us lose very important information on the position an individual one was in the voyage. \n",
        "\n",
        "Though the k-NN algorithm was a fairly good algorithm to use, I will be using the Random Forest model to see whether the accuracy for our classification can improve since of its robustness of higher levels of accuracy in classification."
      ]
    },
    {
      "cell_type": "code",
      "metadata": {
        "id": "_GMptS1GuAk0",
        "colab_type": "code",
        "colab": {}
      },
      "source": [
        "#Defining the predictor variables and target column\n",
        "X = train.drop(['survived'],axis=1)\n",
        "y = train['survived']\n",
        "#Importing the standard scaler\n",
        "from sklearn.preprocessing import StandardScaler\n",
        "scaler = StandardScaler()\n",
        "#Standardizing our numerical columns which are the age and fare columns\n",
        "X[['age','fare']] = scaler.fit_transform(X[['age','fare']])\n",
        "#One hot encoding any categorical columns in our dataset\n",
        "X = pd.get_dummies(X, drop_first=True)\n",
        "#Splitting our dataset into the test and train \n",
        "from sklearn.model_selection import train_test_split\n",
        "\n",
        "X_train,X_test,y_train,y_test = train_test_split(X,y,test_size=0.1,random_state=101)"
      ],
      "execution_count": null,
      "outputs": []
    },
    {
      "cell_type": "code",
      "metadata": {
        "id": "RojkIqpLomjN",
        "colab_type": "code",
        "colab": {
          "base_uri": "https://localhost:8080/",
          "height": 153
        },
        "outputId": "d3a1f379-ba5b-4877-fdf6-90faf6e1ef5b"
      },
      "source": [
        "#Importing the necessary libraries\n",
        "from sklearn.ensemble import RandomForestClassifier\n",
        "#Fitting the model in our data\n",
        "forest  = RandomForestClassifier(n_estimators=100,random_state=42,min_samples_split=5,max_depth=5)\n",
        "forest.fit(X_train,y_train)"
      ],
      "execution_count": null,
      "outputs": [
        {
          "output_type": "execute_result",
          "data": {
            "text/plain": [
              "RandomForestClassifier(bootstrap=True, ccp_alpha=0.0, class_weight=None,\n",
              "                       criterion='gini', max_depth=5, max_features='auto',\n",
              "                       max_leaf_nodes=None, max_samples=None,\n",
              "                       min_impurity_decrease=0.0, min_impurity_split=None,\n",
              "                       min_samples_leaf=1, min_samples_split=5,\n",
              "                       min_weight_fraction_leaf=0.0, n_estimators=100,\n",
              "                       n_jobs=None, oob_score=False, random_state=42, verbose=0,\n",
              "                       warm_start=False)"
            ]
          },
          "metadata": {
            "tags": []
          },
          "execution_count": 97
        }
      ]
    },
    {
      "cell_type": "code",
      "metadata": {
        "id": "JQBVCrgrtvsQ",
        "colab_type": "code",
        "colab": {}
      },
      "source": [
        "#Predicting the classification using the test data\n",
        "y_pred = forest.predict(X_test)"
      ],
      "execution_count": null,
      "outputs": []
    },
    {
      "cell_type": "code",
      "metadata": {
        "id": "-BmrLOECtz1G",
        "colab_type": "code",
        "colab": {
          "base_uri": "https://localhost:8080/",
          "height": 204
        },
        "outputId": "fd512e54-2925-4440-876d-3e151e1edda0"
      },
      "source": [
        "#Printing out the metrics we will be suing in our analysis.\n",
        "print(confusion_matrix(y_test,y_pred))\n",
        "print(classification_report(y_test,y_pred))"
      ],
      "execution_count": null,
      "outputs": [
        {
          "output_type": "stream",
          "text": [
            "[[53  4]\n",
            " [ 7 25]]\n",
            "              precision    recall  f1-score   support\n",
            "\n",
            "           0       0.88      0.93      0.91        57\n",
            "           1       0.86      0.78      0.82        32\n",
            "\n",
            "    accuracy                           0.88        89\n",
            "   macro avg       0.87      0.86      0.86        89\n",
            "weighted avg       0.88      0.88      0.87        89\n",
            "\n"
          ],
          "name": "stdout"
        }
      ]
    },
    {
      "cell_type": "markdown",
      "metadata": {
        "id": "xhuhqmWUuZuI",
        "colab_type": "text"
      },
      "source": [
        "Our Random Forest Model has an accuracy of 88% thus making also a good model for the analysis. This model can also be used for the predictions."
      ]
    },
    {
      "cell_type": "code",
      "metadata": {
        "id": "gptHlFubt4nx",
        "colab_type": "code",
        "colab": {
          "base_uri": "https://localhost:8080/",
          "height": 1000
        },
        "outputId": "af8d22a9-e3a1-4cd2-b8ca-f099012f9e37"
      },
      "source": [
        "#Printing out the most important features in the Random Forest Classification\n",
        "important_feat = pd.DataFrame({'feature': X.columns, 'importance': forest.feature_importances_}).set_index('feature').sort_values(by = 'importance', ascending = False)\n",
        "important_feat"
      ],
      "execution_count": null,
      "outputs": [
        {
          "output_type": "execute_result",
          "data": {
            "text/html": [
              "<div>\n",
              "<style scoped>\n",
              "    .dataframe tbody tr th:only-of-type {\n",
              "        vertical-align: middle;\n",
              "    }\n",
              "\n",
              "    .dataframe tbody tr th {\n",
              "        vertical-align: top;\n",
              "    }\n",
              "\n",
              "    .dataframe thead th {\n",
              "        text-align: right;\n",
              "    }\n",
              "</style>\n",
              "<table border=\"1\" class=\"dataframe\">\n",
              "  <thead>\n",
              "    <tr style=\"text-align: right;\">\n",
              "      <th></th>\n",
              "      <th>importance</th>\n",
              "    </tr>\n",
              "    <tr>\n",
              "      <th>feature</th>\n",
              "      <th></th>\n",
              "    </tr>\n",
              "  </thead>\n",
              "  <tbody>\n",
              "    <tr>\n",
              "      <th>sex_male</th>\n",
              "      <td>0.255187</td>\n",
              "    </tr>\n",
              "    <tr>\n",
              "      <th>title_Mr</th>\n",
              "      <td>0.210823</td>\n",
              "    </tr>\n",
              "    <tr>\n",
              "      <th>pclass</th>\n",
              "      <td>0.098523</td>\n",
              "    </tr>\n",
              "    <tr>\n",
              "      <th>fare</th>\n",
              "      <td>0.093875</td>\n",
              "    </tr>\n",
              "    <tr>\n",
              "      <th>age</th>\n",
              "      <td>0.065729</td>\n",
              "    </tr>\n",
              "    <tr>\n",
              "      <th>family_size</th>\n",
              "      <td>0.061637</td>\n",
              "    </tr>\n",
              "    <tr>\n",
              "      <th>title_Mrs</th>\n",
              "      <td>0.061611</td>\n",
              "    </tr>\n",
              "    <tr>\n",
              "      <th>title_Miss</th>\n",
              "      <td>0.052535</td>\n",
              "    </tr>\n",
              "    <tr>\n",
              "      <th>embarked_Southampton</th>\n",
              "      <td>0.023686</td>\n",
              "    </tr>\n",
              "    <tr>\n",
              "      <th>deck_B</th>\n",
              "      <td>0.012211</td>\n",
              "    </tr>\n",
              "    <tr>\n",
              "      <th>deck_D</th>\n",
              "      <td>0.012084</td>\n",
              "    </tr>\n",
              "    <tr>\n",
              "      <th>title_Master</th>\n",
              "      <td>0.011836</td>\n",
              "    </tr>\n",
              "    <tr>\n",
              "      <th>deck_E</th>\n",
              "      <td>0.009570</td>\n",
              "    </tr>\n",
              "    <tr>\n",
              "      <th>embarked_Queenstown</th>\n",
              "      <td>0.007610</td>\n",
              "    </tr>\n",
              "    <tr>\n",
              "      <th>deck_C</th>\n",
              "      <td>0.006510</td>\n",
              "    </tr>\n",
              "    <tr>\n",
              "      <th>title_Rev</th>\n",
              "      <td>0.004814</td>\n",
              "    </tr>\n",
              "    <tr>\n",
              "      <th>deck_F</th>\n",
              "      <td>0.002441</td>\n",
              "    </tr>\n",
              "    <tr>\n",
              "      <th>title_Dr</th>\n",
              "      <td>0.002144</td>\n",
              "    </tr>\n",
              "    <tr>\n",
              "      <th>deck_A</th>\n",
              "      <td>0.001513</td>\n",
              "    </tr>\n",
              "    <tr>\n",
              "      <th>title_Major</th>\n",
              "      <td>0.001408</td>\n",
              "    </tr>\n",
              "    <tr>\n",
              "      <th>deck_G</th>\n",
              "      <td>0.001141</td>\n",
              "    </tr>\n",
              "    <tr>\n",
              "      <th>title_Sir</th>\n",
              "      <td>0.000680</td>\n",
              "    </tr>\n",
              "    <tr>\n",
              "      <th>title_Don</th>\n",
              "      <td>0.000465</td>\n",
              "    </tr>\n",
              "    <tr>\n",
              "      <th>title_Col</th>\n",
              "      <td>0.000446</td>\n",
              "    </tr>\n",
              "    <tr>\n",
              "      <th>title_Lady</th>\n",
              "      <td>0.000380</td>\n",
              "    </tr>\n",
              "    <tr>\n",
              "      <th>title_Jonkheer</th>\n",
              "      <td>0.000322</td>\n",
              "    </tr>\n",
              "    <tr>\n",
              "      <th>title_Mlle</th>\n",
              "      <td>0.000291</td>\n",
              "    </tr>\n",
              "    <tr>\n",
              "      <th>title_Ms</th>\n",
              "      <td>0.000274</td>\n",
              "    </tr>\n",
              "    <tr>\n",
              "      <th>title_Mme</th>\n",
              "      <td>0.000116</td>\n",
              "    </tr>\n",
              "    <tr>\n",
              "      <th>deck_T</th>\n",
              "      <td>0.000083</td>\n",
              "    </tr>\n",
              "    <tr>\n",
              "      <th>title_the Countess</th>\n",
              "      <td>0.000054</td>\n",
              "    </tr>\n",
              "  </tbody>\n",
              "</table>\n",
              "</div>"
            ],
            "text/plain": [
              "                      importance\n",
              "feature                         \n",
              "sex_male                0.255187\n",
              "title_Mr                0.210823\n",
              "pclass                  0.098523\n",
              "fare                    0.093875\n",
              "age                     0.065729\n",
              "family_size             0.061637\n",
              "title_Mrs               0.061611\n",
              "title_Miss              0.052535\n",
              "embarked_Southampton    0.023686\n",
              "deck_B                  0.012211\n",
              "deck_D                  0.012084\n",
              "title_Master            0.011836\n",
              "deck_E                  0.009570\n",
              "embarked_Queenstown     0.007610\n",
              "deck_C                  0.006510\n",
              "title_Rev               0.004814\n",
              "deck_F                  0.002441\n",
              "title_Dr                0.002144\n",
              "deck_A                  0.001513\n",
              "title_Major             0.001408\n",
              "deck_G                  0.001141\n",
              "title_Sir               0.000680\n",
              "title_Don               0.000465\n",
              "title_Col               0.000446\n",
              "title_Lady              0.000380\n",
              "title_Jonkheer          0.000322\n",
              "title_Mlle              0.000291\n",
              "title_Ms                0.000274\n",
              "title_Mme               0.000116\n",
              "deck_T                  0.000083\n",
              "title_the Countess      0.000054"
            ]
          },
          "metadata": {
            "tags": []
          },
          "execution_count": 100
        }
      ]
    },
    {
      "cell_type": "markdown",
      "metadata": {
        "id": "1Oh8MzXEvGGp",
        "colab_type": "text"
      },
      "source": [
        "According to the Random Forest model the sex and the title Mr were the two most important features in classification."
      ]
    },
    {
      "cell_type": "markdown",
      "metadata": {
        "id": "75kaKlXbvf5t",
        "colab_type": "text"
      },
      "source": [
        "# Conclusion"
      ]
    },
    {
      "cell_type": "markdown",
      "metadata": {
        "id": "1koAs4jRLHgS",
        "colab_type": "text"
      },
      "source": [
        "The following are what I derived from my analysis :\n",
        "\n",
        "*   A person in the first class had a higher chance of survival.\n",
        "*   A female had a higher chance of survival than a male.\n",
        "*   A person who boarded the Titanic in Cherbough had a higher chance of survival.\n",
        "*   A person bearing the titles; Countess, Mille, Sir, Lady, Ms and Mme had a higher chance of survival.\n",
        "*  Persons in Cherbough were generally wealth since they are the ones who paid the most fare.\n",
        "*  A person in Deck E, Deck D and Deck B had a higher chance of survival. Individuals in Deck T did not survive.\n",
        "\n",
        "\n",
        "The k-NN tuned algorithm with a test size of 10% did a good job in predicting whether the individual will survive. We used 29 neighbours as the optimal number of neighbors to classify an individual. I also used the manhattan metric and one Linear Discriminant Analysis is optimizing my model. The model achieved an accuracy of 87% surpassing my metric of success of 85%. Therefore I achieved my goal for this project.\n",
        "\n",
        "The Random Forest Model is also a good fit for this data since it also achieved an accuracy of 88%."
      ]
    }
  ]
}